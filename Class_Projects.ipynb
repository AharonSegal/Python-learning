{
 "cells": [
  {
   "cell_type": "markdown",
   "metadata": {},
   "source": [
    "HOLIDAY HOMEWORK [PESSAH]"
   ]
  },
  {
   "cell_type": "markdown",
   "metadata": {},
   "source": [
    "Q-15"
   ]
  },
  {
   "cell_type": "code",
   "execution_count": 2,
   "metadata": {},
   "outputs": [
    {
     "name": "stdout",
     "output_type": "stream",
     "text": [
      "The maximum numbers in each list: [4, 8, 12, 16]\n",
      "The list with the maximum sum of elements: [13, 14, 15, 16]\n",
      "The longest list: [1, 2, 3, 4]\n",
      "Lists after removing the smallest elements in each: [[2, 3, 4], [6, 7, 8], [10, 11, 12], [14, 15, 16]]\n",
      "The flattened list: [2, 3, 4, 6, 7, 8, 10, 11, 12, 14, 15, 16]\n"
     ]
    }
   ],
   "source": [
    "lists_of_lists = [\n",
    "    [1, 2, 3, 4],\n",
    "    [5, 6, 7, 8],\n",
    "    [9, 10, 11, 12],\n",
    "    [13, 14, 15, 16]\n",
    "]\n",
    "\n",
    "# Task 1\n",
    "max_numbers = [max(sublist) for sublist in lists_of_lists]\n",
    "print(\"The maximum numbers in each list:\", max_numbers)\n",
    "\n",
    "# Task 2\n",
    "max_sum_list = max(lists_of_lists, key=sum)\n",
    "print(\"The list with the maximum sum of elements:\", max_sum_list)\n",
    "\n",
    "# Task 3\n",
    "longest_list = max(lists_of_lists, key=len)\n",
    "print(\"The longest list:\", longest_list)\n",
    "\n",
    "# Task 4\n",
    "lists_of_lists = [list(filter(lambda x: x != min(sublist), sublist)) for sublist in lists_of_lists]\n",
    "print(\"Lists after removing the smallest elements in each:\", lists_of_lists)\n",
    "\n",
    "# Task 5\n",
    "flattened_list = [item for sublist in lists_of_lists for item in sublist]\n",
    "print(\"The flattened list:\", flattened_list)\n"
   ]
  },
  {
   "cell_type": "code",
   "execution_count": 9,
   "metadata": {},
   "outputs": [
    {
     "name": "stdout",
     "output_type": "stream",
     "text": [
      "The max number of numbers is  16\n"
     ]
    }
   ],
   "source": [
    "lists_of_lists = [\n",
    "    [1, 2, 3, 4],\n",
    "    [5, 6, 7, 8],\n",
    "    [9, 10, 11, 12],\n",
    "    [13, 14, 15, 16]\n",
    "]\n",
    "\n",
    "# Task 1 ver.1\n",
    "max_numbers = 0\n",
    "for i in range(len(lists_of_lists)):\n",
    "    for j in lists_of_lists[i]:\n",
    "        if j > max_numbers:\n",
    "            max_numbers = j\n",
    "print(\"The max number of numbers is \", max_numbers)\n",
    "\n",
    "# Task 1 ver.2\n",
    "max_numbers = max([num for sublist in lists_of_lists for num in sublist])\n",
    "print(\"The max number of numbers is\", max_numbers)\n"
   ]
  }
 ],
 "metadata": {
  "kernelspec": {
   "display_name": "Python 3",
   "language": "python",
   "name": "python3"
  },
  "language_info": {
   "codemirror_mode": {
    "name": "ipython",
    "version": 3
   },
   "file_extension": ".py",
   "mimetype": "text/x-python",
   "name": "python",
   "nbconvert_exporter": "python",
   "pygments_lexer": "ipython3",
   "version": "3.12.3"
  }
 },
 "nbformat": 4,
 "nbformat_minor": 2
}
