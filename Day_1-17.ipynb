{
  "nbformat": 4,
  "nbformat_minor": 0,
  "metadata": {
    "colab": {
      "provenance": []
    },
    "kernelspec": {
      "name": "python3",
      "display_name": "Python 3"
    },
    "language_info": {
      "name": "python"
    }
  },
  "cells": [
    {
      "cell_type": "markdown",
      "source": [
        "# **day 1**"
      ],
      "metadata": {
        "id": "16dImgFcjjeQ"
      }
    },
    {
      "cell_type": "code",
      "execution_count": null,
      "metadata": {
        "id": "00Gg6D6LjVAb"
      },
      "outputs": [],
      "source": [
        "# name city greeting #\n",
        "print(\"Wllcome\")\n",
        "name = input(\"what is your name\")\n",
        "city = input((\"what city do you live in\"))\n",
        "print(f\"hello{name} from {city}\")"
      ]
    },
    {
      "cell_type": "markdown",
      "source": [
        "# **day 2**"
      ],
      "metadata": {
        "id": "-NNPy3CslJD-"
      }
    },
    {
      "cell_type": "code",
      "source": [
        "# num seperate and add #\n",
        "num = 39\n",
        "num_str = str(num)\n",
        "num_lst = list(num_str)\n",
        "num_sum = sum(int(i) for i in num_lst)\n",
        "print(num_sum)\n",
        "\n",
        "\n"
      ],
      "metadata": {
        "colab": {
          "base_uri": "https://localhost:8080/"
        },
        "id": "jQE26Ym9jiq0",
        "outputId": "a6bbcc64-ee54-4b83-ce0e-3b9ca529997e"
      },
      "execution_count": null,
      "outputs": [
        {
          "output_type": "stream",
          "name": "stdout",
          "text": [
            "12\n"
          ]
        }
      ]
    },
    {
      "cell_type": "code",
      "source": [
        "# BMI CALCULATOR #\n",
        "height = int(input(\"enter height\"))\n",
        "weight = int(input(\"enter weight\"))\n",
        "BMI = weight / (height ** 2)\n",
        "print(BMI)"
      ],
      "metadata": {
        "id": "xEmKX19moxPe"
      },
      "execution_count": null,
      "outputs": []
    },
    {
      "cell_type": "code",
      "source": [
        "# TIP CALCULATOR #\n",
        "bill = int(input(\"what is the bill: \"))\n",
        "tip_size = int(input(\"tip % size: \"))\n",
        "payers = int(input(\"how to split the bill: \"))\n",
        "\n",
        "tip = bill / 100 * tip_size\n",
        "total_bill = bill + tip\n",
        "payer_div   = total_bill / payers\n",
        "print(f\"each needs to pay :{payer_div} $\" )"
      ],
      "metadata": {
        "id": "IqhVFPx44uJx"
      },
      "execution_count": null,
      "outputs": []
    },
    {
      "cell_type": "markdown",
      "source": [
        "# **day 3**"
      ],
      "metadata": {
        "id": "gur0kzjz7FFF"
      }
    },
    {
      "cell_type": "code",
      "source": [
        "# even odd #\n",
        "def even_odd(x):\n",
        "    if x % 2 == 0:\n",
        "        print(\"even\")\n",
        "    else:\n",
        "        print(\"odd\")\n",
        "\n",
        "\n",
        "even_odd(100)"
      ],
      "metadata": {
        "id": "C_F7kdI768qA"
      },
      "execution_count": null,
      "outputs": []
    },
    {
      "cell_type": "code",
      "source": [
        "# true love #\n",
        "print(\"The Love Calculator is calculating your score...\")\n",
        "name1 = input(\"first name: \") # What is your name?\n",
        "name2 = input(\"second name: \") # What is their name?\n",
        "\n",
        "def test(x,y):\n",
        "  true = \"TRUE\"\n",
        "  love = \"LOVE\"\n",
        "  name_1 = sorted(x.upper())\n",
        "  name_2 = sorted(y.upper())\n",
        "  both = name_1+name_2\n",
        "\n",
        "  first_digit = 0\n",
        "  second_digit = 0\n",
        "\n",
        "  for i in both:\n",
        "    if i in true:\n",
        "      first_digit +=1\n",
        "  for i in both:\n",
        "      if i in love:\n",
        "        second_digit += 1\n",
        "\n",
        "  final_score = first_digit * 10 + second_digit\n",
        "  print(final_score)\n",
        "\n",
        "test(name1,name2)\n"
      ],
      "metadata": {
        "id": "pVgZoKsTf81q"
      },
      "execution_count": null,
      "outputs": []
    },
    {
      "cell_type": "markdown",
      "source": [
        "# **day 4**"
      ],
      "metadata": {
        "id": "fYkOA676JkMb"
      }
    },
    {
      "cell_type": "code",
      "source": [
        "### HEADS & TAILS ###\n",
        "import random\n",
        "\n",
        "ran_num = random.randint(1, 2)\n",
        "\n",
        "if ran_num == 1:\n",
        "    print(\"HEADS\")\n",
        "else:\n",
        "    print(\"Tails\")"
      ],
      "metadata": {
        "id": "BZpY5OQjJnA2"
      },
      "execution_count": null,
      "outputs": []
    },
    {
      "cell_type": "code",
      "source": [
        "### ROCK PAPER SCISSORS ###\n",
        "import random\n",
        "\n",
        "name_player = input(\"Enter your name: \")\n",
        "items = [\"r\", \"p\", \"s\"]\n",
        "\n",
        "outcomes = {\n",
        "    ('r', 'r'): 'Tie',\n",
        "    ('r', 'p'): 'Computer wins!',\n",
        "    ('r', 's'): 'Player wins!',\n",
        "    ('p', 'r'): 'Player wins!',\n",
        "    ('p', 'p'): 'Tie',\n",
        "    ('p', 's'): 'Computer wins!',\n",
        "    ('s', 'r'): 'Computer wins!',\n",
        "    ('s', 'p'): 'Player wins!',\n",
        "    ('s', 's'): 'Tie',\n",
        "}\n",
        "\n",
        "RPS = {\n",
        "    \"r\": '''\n",
        "        _______\n",
        "    ---'   ____)\n",
        "          (_____)\n",
        "          (_____)\n",
        "          (____)\n",
        "    ---.__(___)\n",
        "    ''',\n",
        "\n",
        "    \"p\": '''\n",
        "        _______\n",
        "    ---'   ____)____\n",
        "              ______)\n",
        "              _______)\n",
        "             _______)\n",
        "    ---.__________)\n",
        "    ''',\n",
        "\n",
        "    \"s\": '''\n",
        "        _______\n",
        "    ---'   ____)____\n",
        "              ______)\n",
        "           __________)\n",
        "          (____)\n",
        "    ---.__(___)\n",
        "    '''\n",
        "}\n",
        "\n",
        "\n",
        "player = 0\n",
        "PC = 0\n",
        "tie = 0\n",
        "game = player + PC + tie\n",
        "\n",
        "def get_user_choice():\n",
        "    while True:\n",
        "        user_input = input(\"Choose: 'R' rock -- 'P' paper -- 'S' scissors \\n\").lower()\n",
        "        if user_input in ['r', 'p', 's']:\n",
        "            return user_input\n",
        "        else:\n",
        "            print(\"Invalid input. Please enter 'R', 'P', or 'S'.\")\n",
        "\n",
        "while game == 0:\n",
        "    play_turn = get_user_choice()\n",
        "    PC_turn = random.choice(list(RPS.keys()))\n",
        "    round = (play_turn, PC_turn)\n",
        "    round_outcome = outcomes[round]\n",
        "    print(name_player ,\"\\n\",RPS[play_turn],\"-------VS-------\",\"\\n\"\"PC\",RPS[PC_turn])\n",
        "    if round_outcome == 'Player wins!':\n",
        "        player += 1\n",
        "        print(\"1 for PLAYER\")\n",
        "    elif round_outcome == 'Computer wins!':\n",
        "        PC += 1\n",
        "        print(\"1 for PC\")\n",
        "    else:\n",
        "        tie +1\n",
        "        print(\"tie\")\n",
        "    if player == 3:\n",
        "        print(\"YOU WIN!!!\")\n",
        "        game = 0\n",
        "    elif PC == 3:\n",
        "        print(\"YOU LOSE :(\")\n",
        "        game = 0\n",
        "    elif tie == 6:\n",
        "        print(\"tie\")\n",
        "        game = 0\n",
        "\n",
        "\n",
        "\n",
        "\n"
      ],
      "metadata": {
        "id": "jvQyumUU_c1y"
      },
      "execution_count": null,
      "outputs": []
    },
    {
      "cell_type": "markdown",
      "source": [
        "# **day 5**"
      ],
      "metadata": {
        "id": "UAJOj22UNPgm"
      }
    },
    {
      "cell_type": "code",
      "source": [
        "### average height ###\n",
        "# Input a Python list of student heights\n",
        "student_heights = input().split()\n",
        "for n in range(0, len(student_heights)):\n",
        "    student_heights[n] = int(student_heights[n])\n",
        "# Write your code below this row 👇\n",
        "total_height = 0\n",
        "for num in student_heights:\n",
        "    total_height += num\n",
        "average = total_height / len(student_heights)\n",
        "print(average)"
      ],
      "metadata": {
        "id": "DFwPjMj0NYcW"
      },
      "execution_count": null,
      "outputs": []
    },
    {
      "cell_type": "code",
      "source": [
        "### sum even ###\n",
        "target = int(input(\"enter number between 1 - 1000: \"))\n",
        "\n",
        "total = 0\n",
        "for num in range(2,target+1,2):\n",
        "    total += num\n",
        "print(total)"
      ],
      "metadata": {
        "id": "3R3kyNsmvIkf"
      },
      "execution_count": null,
      "outputs": []
    },
    {
      "cell_type": "code",
      "source": [
        "### password generator ###\n",
        "import random\n",
        "import string\n",
        "letters = int(input(\"how many letters would you like in your password?\"))\n",
        "symbols = int(input(\"how many symbols would you like in your password?\"))\n",
        "numbers = int(input(\"how many numbers would you like in your password?\"))\n",
        "def generate_random_letters(x):\n",
        "    return ''.join(random.choice(string.ascii_letters) for _ in range(x))\n",
        "def generate_random_symbols(x):\n",
        "    symbols = string.punctuation\n",
        "    return ''.join(random.choice(symbols) for _ in range(x))\n",
        "def generate_random_numbers(x, lower_bound=1, upper_bound=9):\n",
        "    return ''.join(str(random.randint(lower_bound, upper_bound)) for _ in range(x))\n",
        "\n",
        "chars = generate_random_letters(letters)+generate_random_numbers(numbers)+generate_random_symbols(symbols)\n",
        "def shuffle_chars(char_str):\n",
        "    to_list = list(char_str)\n",
        "    random.shuffle(to_list)\n",
        "    password = \"\".join(to_list)\n",
        "    print(password)\n",
        "shuffle_chars(chars)"
      ],
      "metadata": {
        "id": "E6OzmzQb1oAo"
      },
      "execution_count": null,
      "outputs": []
    },
    {
      "cell_type": "markdown",
      "source": [
        "# **day 8**"
      ],
      "metadata": {
        "id": "5UIvsYjnJIJs"
      }
    },
    {
      "cell_type": "code",
      "source": [
        "### cans ###\n",
        "def cans_of_pain(height,width):\n",
        "    num_cans = (height * width) / 5\n",
        "    return round(num_cans)\n",
        "print(cans_of_pain(3,9))\n"
      ],
      "metadata": {
        "id": "ifowVVrRKJjQ"
      },
      "execution_count": null,
      "outputs": []
    },
    {
      "cell_type": "code",
      "source": [
        "### is prime ###\n",
        "num = int(input(\"enter number: \" ))\n",
        "def is_prime(num):\n",
        "    prime = True\n",
        "    for i in range(2, num-1):\n",
        "        if num % i == 0:\n",
        "            prime = False\n",
        "    if prime:\n",
        "        print(f\"{num} is prime\")\n",
        "    else:\n",
        "        print(f\"{num} not is prime\")\n",
        "\n",
        "is_prime(num)"
      ],
      "metadata": {
        "id": "sWMvxFZQKOSS"
      },
      "execution_count": null,
      "outputs": []
    },
    {
      "cell_type": "code",
      "source": [
        "#### CESAR CYPHER AND DESYPHER ####"
      ],
      "metadata": {
        "id": "7Z0xau1hG2qy"
      },
      "execution_count": null,
      "outputs": []
    },
    {
      "cell_type": "code",
      "source": [
        "alphabet = [\"a\",\"b\",\"c\",\"d\",\"e\",\"f\",\"g\",\"h\",\"i\",\"j\",\"k\",\"l\",\"m\",\"n\",\"o\",\"p\",\"q\",\"r\",\"s\",\"t\",\"u\",\"v\",\"w\",\"x\",\"y\",\"z\"]\n",
        "\n",
        "##### ENCRYPT ####\n",
        "\n",
        "\n",
        "words = \"hello where are you now\"\n",
        "shift_key = int(input(\"Enter the key: \"))\n",
        "\n",
        "def encrypt(str,key):\n",
        "    encrypted = \"\"\n",
        "    for char in str:\n",
        "        if not char.isalpha():\n",
        "            encrypted+= char\n",
        "            continue\n",
        "        position = alphabet.index(char)\n",
        "        shift_amnt = (position + key) % 26\n",
        "        shifted = alphabet[shift_amnt]\n",
        "        encrypted += shifted\n",
        "\n",
        "    print(encrypted)\n",
        "\n",
        "encrypt(words,shift_key)\n",
        "\n",
        "\n",
        "### DECRYPT ###\n",
        "\n",
        "encrypted = \"qnuux fqnan jan hxd wxf\"\n",
        "key = 9\n",
        "\n",
        "def decrypt(str,key):\n",
        "    decrypted = \"\"\n",
        "    for char in str:\n",
        "        if not char.isalpha():\n",
        "            decrypted+= char\n",
        "            continue\n",
        "        position = alphabet.index(char)\n",
        "        shift_amnt = (position - key) % 26\n",
        "        shifted = alphabet[shift_amnt]\n",
        "        decrypted += shifted\n",
        "    print(decrypted)\n",
        "decrypt(encrypted,key)"
      ],
      "metadata": {
        "id": "Ffg-T2SPG-WI"
      },
      "execution_count": null,
      "outputs": []
    },
    {
      "cell_type": "code",
      "source": [
        "#### CESAR FULL ####\n",
        "\n",
        "alphabet = [\"a\",\"b\",\"c\",\"d\",\"e\",\"f\",\"g\",\"h\",\"i\",\"j\",\"k\",\"l\",\"m\",\"n\",\"o\",\"p\",\"q\",\"r\",\"s\",\"t\",\"u\",\"v\",\"w\",\"x\",\"y\",\"z\"]\n",
        "\n",
        "def cesar():\n",
        "    text = input(\"Enter text to encrypt: \")\n",
        "    key = int(input(\"Enter key, number only: \"))\n",
        "    encrypted = \"\"\n",
        "    for char in text:\n",
        "        if not char.isalpha():\n",
        "            encrypted+= char\n",
        "            continue\n",
        "        position = alphabet.index(char)\n",
        "        shift_amnt = (position + key) % 26\n",
        "        shifted = alphabet[shift_amnt]\n",
        "        encrypted += shifted\n",
        "    print(f\"The encrypted text is: {encrypted}\",\"\\n\")\n",
        "\n",
        "    decrypted = \"\"\n",
        "    for char in encrypted:\n",
        "        if not char.isalpha():\n",
        "            decrypted+= char\n",
        "            continue\n",
        "        position = alphabet.index(char)\n",
        "        shift_amnt = (position - key) % 26\n",
        "        shifted = alphabet[shift_amnt]\n",
        "        decrypted += shifted\n",
        "    print(f\"The decrypted text is: {decrypted}\",\"\\n\")\n",
        "\n",
        "cesar()\n",
        "\n",
        "#\"hello where are you now?\""
      ],
      "metadata": {
        "id": "VzFABkX2I-ku"
      },
      "execution_count": null,
      "outputs": []
    },
    {
      "cell_type": "markdown",
      "source": [
        "# **day 9**"
      ],
      "metadata": {
        "id": "qX6XFKDkYGZC"
      }
    },
    {
      "cell_type": "code",
      "source": [
        "### student score ###\n",
        "\n",
        "student_scores = {\n",
        "  \"Harry\": 81,\n",
        "  \"Ron\": 78,\n",
        "  \"Hermione\": 99,\n",
        "  \"Draco\": 74,\n",
        "  \"Neville\": 62,\n",
        "}\n",
        "# 🚨 Don't change the code above 👆\n",
        "# TODO-1: Create an empty dictionary called student_grades.\n",
        "students_grades = {}\n",
        "\n",
        "# TODO-2: Write your code below to add the grades to student_grades.👇\n",
        "for student in student_scores:\n",
        "  score = student_scores[student]\n",
        "  if score > 90:\n",
        "    students_grades[student] = \"Outstanding\"\n",
        "  elif score > 80:\n",
        "    students_grades[student] = \"Exceeds Expectation\"\n",
        "  elif score > 70:\n",
        "    students_grades[student] = \"Acceptable\"\n",
        "  else:\n",
        "    students_grades[student] = \"Fail\"\n",
        "\n",
        "# 🚨 Don't change the code below 👇\n",
        "print(students_grades)"
      ],
      "metadata": {
        "id": "RDvRzD6iYKJn"
      },
      "execution_count": null,
      "outputs": []
    },
    {
      "cell_type": "code",
      "source": [
        "import os\n",
        "bidders = {}\n",
        "round = True\n",
        "\n",
        "# get bids\n",
        "while round == True:\n",
        "    #clear terminal\n",
        "    os.system('cls' if os.name == 'nt' else 'clear')\n",
        "    #get name and bid\n",
        "    add_bidder = input(\"What is your name? \")\n",
        "    bidders[add_bidder] = int(input(\"What is your bid\"))\n",
        "    # ask for other bids\n",
        "    ask_bid = input(\"Is there another bid? 'Y' or 'N': \").lower()\n",
        "    while ask_bid not in ['y', 'n']:\n",
        "        ask_bid = input(\"Invalid input. Please enter 'Y' or 'N': \").lower()\n",
        "    # break term\n",
        "    if ask_bid == \"n\":\n",
        "        round = False\n",
        "# cal highest\n",
        "bidder_with_max_value = max(bidders, key=lambda k: bidders[k])\n",
        "print(\"SOLD! to \" + bidder_with_max_value)\n",
        "\n",
        "\n",
        "\n",
        "\n"
      ],
      "metadata": {
        "id": "5uQVq9zog2_V"
      },
      "execution_count": null,
      "outputs": []
    },
    {
      "cell_type": "markdown",
      "source": [
        "# **day 10**"
      ],
      "metadata": {
        "id": "8p5yYexfn25r"
      }
    },
    {
      "cell_type": "code",
      "source": [
        "def is_leap(year):\n",
        "    if year % 4 == 0:\n",
        "        if year % 100 == 0:\n",
        "            if year % 400 == 0:\n",
        "                return True\n",
        "            else:\n",
        "                return False\n",
        "        else:\n",
        "            return True\n",
        "    else:\n",
        "        return False\n",
        "\n",
        "def days_in_month(year, month):\n",
        "    month_days = [31, 28, 31, 30, 31, 30, 31, 31, 30, 31, 30, 31]\n",
        "\n",
        "    # If it's a leap year and the month is February (index 1), update the days\n",
        "    if is_leap(year) and month == 2:\n",
        "        return 29\n",
        "    else:\n",
        "        return month_days[month - 1]\n",
        "\n",
        "# 🚨 Do NOT change any of the code below\n",
        "year = int(input(\"Enter a year: \"))  # Enter a year\n",
        "month = int(input(\"Enter a month: \"))  # Enter a month\n",
        "days = days_in_month(year, month)\n",
        "print(days)\n"
      ],
      "metadata": {
        "id": "ydVpbMwYnm1j"
      },
      "execution_count": null,
      "outputs": []
    },
    {
      "cell_type": "markdown",
      "source": [
        "# **day 12**"
      ],
      "metadata": {
        "id": "FgI1iOmpb7qf"
      }
    },
    {
      "cell_type": "code",
      "source": [
        "#####BLACKjACK  ----- FIRST VER  ######\n",
        "\n",
        "import random\n",
        "from art import logo\n",
        "\n",
        "cards = [11, 2, 3, 4, 5, 6, 7, 8, 9, 10, 10, 10, 10]\n",
        "players = {\n",
        "     \"Dealer\" : [],\n",
        "     \"Player\" :[]\n",
        " }\n",
        "\n",
        "def game_on():\n",
        "    print(logo)\n",
        "    for key in players:\n",
        "        players[key] = []\n",
        "\n",
        "    round = True\n",
        "    while round:\n",
        "        ###  wave 1\n",
        "        add_card(\"Dealer\")\n",
        "        print(\"PC HAND:  \", players[\"Dealer\"][0])\n",
        "\n",
        "        add_card(\"Player\")\n",
        "        print(\"PLAYER HAND: \", players[\"Player\"])\n",
        "\n",
        "        # check for blackjack\n",
        "        black_jack = [(key) for key, value in players.items() if sum(value) == 21]\n",
        "\n",
        "        #####CHECK THIS ######\n",
        "        if black_jack:\n",
        "            print(f\"{black_jack} wins with a Blackjack!\")\n",
        "            break\n",
        "\n",
        "        ###  wave 2\n",
        "        while sum(players[\"Dealer\"]) < 17:\n",
        "            add_card(\"Dealer\")\n",
        "\n",
        "        while True:\n",
        "            ask_hit = input(\"HIT or STAND? 'H' or 'S': \").lower()\n",
        "            while ask_hit not in ['h', 's']:\n",
        "                ask_hit = input(\"Invalid input. Please enter 'H' or 'S': \").lower()\n",
        "            if ask_hit == \"h\":\n",
        "                add_card(\"Player\")\n",
        "            else:\n",
        "                break\n",
        "            print(\"PLAYER HAND: \", players[\"Player\"], \"\\n\", sum(players[\"Player\"]))\n",
        "            if sum(players[\"Player\"]) > 21:\n",
        "                print(\"Dealer Wins!\")\n",
        "                game_on()\n",
        "\n",
        "        game_status()\n",
        "\n",
        "        round == False\n",
        "\n",
        "def add_card(player):\n",
        "    players[player].append(random.choice(cards))\n",
        "\n",
        "def game_status():\n",
        "    Dealer_stat = sum(players[\"Dealer\"])\n",
        "    Player_stat = sum(players[\"Player\"])\n",
        "\n",
        "    if Dealer_stat > 21 or Player_stat > 21:\n",
        "        Dealer_stat = 0\n",
        "        Player_stat = 0\n",
        "\n",
        "    if Dealer_stat > Player_stat:\n",
        "        print(\"Dealer Wins!\")\n",
        "        print(sum(players[\"Dealer\"]))\n",
        "    else:\n",
        "        print(\"Player Wins!\")\n",
        "    game_on()\n",
        "\n",
        "game_on()\n"
      ],
      "metadata": {
        "id": "Zk0gXs7GfD1Y"
      },
      "execution_count": null,
      "outputs": []
    },
    {
      "cell_type": "code",
      "source": [
        "#####BLACKjACK  ----- SECOND VER  ######\n",
        "\n",
        "import random\n",
        "from art import logo\n",
        "\n",
        "def deal_card():\n",
        "  \"\"\"Returns a random card from the deck.\"\"\"\n",
        "  cards = [11, 2, 3, 4, 5, 6, 7, 8, 9, 10, 10, 10, 10]\n",
        "  card = random.choice(cards)\n",
        "  return card\n",
        "\n",
        "def calculate_score(cards):\n",
        "  \"\"\"Take a list of cards and return the score calculated from the cards\"\"\"\n",
        "  #check for BlackJack\n",
        "  if sum(cards) == 21 and len(cards) == 2:\n",
        "    return 0\n",
        "  # make ace to 1 if over 21\n",
        "  if 11 in cards and sum(cards) > 21:\n",
        "    cards.remove(11)\n",
        "    cards.append(1)\n",
        "  return sum(cards)\n",
        "\n",
        "def compare(user_score, computer_score):\n",
        "  #If you and the computer are both over, you lose.\n",
        "  if user_score > 21 and computer_score > 21:\n",
        "    return \"You went over. You lose 😤\"\n",
        "\n",
        "  if user_score == computer_score:\n",
        "    return \"PUSH 🙃\"\n",
        "  elif computer_score == 0:\n",
        "    return \"Lose, opponent has Blackjack 😱\"\n",
        "  elif user_score == 0:\n",
        "    return \"Win with a Blackjack 😎\"\n",
        "  elif user_score > 21:\n",
        "    return \"You went over. You lose 😭\"\n",
        "  elif computer_score > 21:\n",
        "    return \"Opponent went over. You win 😁\"\n",
        "  elif user_score > computer_score:\n",
        "    return \"You win 😃\"\n",
        "  else:\n",
        "    return \"You lose 😤\"\n",
        "\n",
        "def play_game():\n",
        "\n",
        "  print(logo)\n",
        "\n",
        "  #Deal the user and computer 2 cards each using deal_card()\n",
        "  user_cards = []\n",
        "  computer_cards = []\n",
        "  is_game_over = False\n",
        "\n",
        "  for _ in range(2):\n",
        "    user_cards.append(deal_card())\n",
        "    computer_cards.append(deal_card())\n",
        "\n",
        "  while not is_game_over:\n",
        "    #Call calculate_score(). If the computer or the user has a blackjack (0) or if the user's score is over 21, then the game ends.\n",
        "    user_score = calculate_score(user_cards)\n",
        "    computer_score = calculate_score(computer_cards)\n",
        "    print(f\"   Your cards: {user_cards}, current score: {user_score}\")\n",
        "    print(f\"   Computer's first card: {computer_cards[0]}\")\n",
        "\n",
        "                                                            ###check for pc\n",
        "    if user_score == 0 or computer_score == 0 or user_score > 21:\n",
        "      is_game_over = True\n",
        "    else:\n",
        "      #If the game has not ended, ask the user if they want to draw another card. If yes, then use the deal_card() function to add another card to the user_cards List. If no, then the game has ended.\n",
        "      user_should_deal = input(\"Type 'y' to get another card, type 'n' to pass: \")\n",
        "      if user_should_deal == \"y\":\n",
        "        user_cards.append(deal_card())\n",
        "      else:\n",
        "        is_game_over = True\n",
        "\n",
        "  #Hint 12: Once the user is done, it's time to let the computer play. The computer should keep drawing cards as long as it has a score less than 17.\n",
        "  while computer_score != 0 and computer_score < 17:\n",
        "    computer_cards.append(deal_card())\n",
        "    computer_score = calculate_score(computer_cards)\n",
        "\n",
        "  print(f\"   Your final hand: {user_cards}, final score: {user_score}\")\n",
        "  print(f\"   Computer's final hand: {computer_cards}, final score: {computer_score}\")\n",
        "  print(compare(user_score, computer_score))\n",
        "\n",
        "#Hint 14: Ask the user if they want to restart the game. If they answer yes, clear the console and start a new game of blackjack and show the logo from art.py.\n",
        "while input(\"Do you want to play a game of Blackjack? Type 'y' or 'n': \") == \"y\":\n",
        "  play_game()"
      ],
      "metadata": {
        "id": "RW4fJ5ukfLKv"
      },
      "execution_count": null,
      "outputs": []
    },
    {
      "cell_type": "markdown",
      "source": [
        "# **day 12**"
      ],
      "metadata": {
        "id": "gcPd2ECxbs9H"
      }
    },
    {
      "cell_type": "code",
      "source": [
        "####### GUESSING GAME #########\n",
        "\n",
        "import random\n",
        "\n",
        "def guessing_game():\n",
        "\n",
        "    ran_n = random.randint(1, 100)\n",
        "    print(ran_n)\n",
        "    print(\"\"\"\n",
        "    /--------------------/\n",
        "    ---GUESSING GAME---\n",
        "    /--------------------/\n",
        "    \"\"\")\n",
        "    mode = input(\"Choose mode / EASY 'E' (10 Guesses) / HARD 'H' (5 Guesses): \").lower()\n",
        "\n",
        "    if mode == \"e\":\n",
        "        tries_left = 10\n",
        "    else:\n",
        "        tries_left = 5\n",
        "    print(f\"YOU HAVE {tries_left} tries left\")\n",
        "\n",
        "    guess = int(input(\"GUESS A NUMBER FROM 1 TO 100: \"))\n",
        "\n",
        "    if guess == ran_n:\n",
        "        print(f\"You got it! The answer was {ran_n}.\")\n",
        "    else:\n",
        "        while guess != ran_n:\n",
        "            if guess > ran_n:\n",
        "                print(\"TO BIG\")\n",
        "                tries_left -= 1\n",
        "\n",
        "            else:\n",
        "                print(\"TO SMALL\")\n",
        "                tries_left -= 1\n",
        "                if tries_left == 0:\n",
        "                    print(\"You've run out of guesses, you lose.\")\n",
        "                    guessing_game()\n",
        "            print(f\"YOU HAVE {tries_left} tries left\")\n",
        "            guess = int(input(\"GUESS AGAIN: \"))\n",
        "    print(f\"You got it! The answer was {ran_n}.\")\n",
        "guessing_game()"
      ],
      "metadata": {
        "id": "oXkhccRQbvWv"
      },
      "execution_count": null,
      "outputs": []
    },
    {
      "cell_type": "markdown",
      "source": [
        "# **day 13**"
      ],
      "metadata": {
        "id": "BMAYyYKAfYSS"
      }
    },
    {
      "cell_type": "code",
      "source": [
        "########    DEBUGGING     ############\n",
        "\n",
        "\n",
        "\n",
        "############DEBUGGING#####################\n",
        "\n",
        "# Describe Problem\n",
        "def my_function():\n",
        "  for i in range(1, 20):\n",
        "    if i == 20:\n",
        "      print(\"You got it\")\n",
        "my_function()\n",
        "\n",
        "# # Reproduce the Bug\n",
        "# from random import randint\n",
        "# dice_imgs = [\"❶\", \"❷\", \"❸\", \"❹\", \"❺\", \"❻\"]\n",
        "# dice_num = randint(0, 5)\n",
        "# print(dice_imgs[dice_num])\n",
        "\n",
        "# Play Computer\n",
        "# year = int(input(\"What's your year of birth?\"))\n",
        "# if year >= 1980 and year <= 1994:\n",
        "#   print(\"You are a millenial.\")\n",
        "# elif year > 1994:\n",
        "#   print(\"You are a Gen Z.\")\n",
        "\n",
        "# # Fix the Errors\n",
        "# age = int(input(\"How old are you?\"))\n",
        "# if age > 18:\n",
        "#   print(f\"You can drive at age {age}.\")\n",
        "\n",
        "# #Print is Your Friend\n",
        "# pages = 0\n",
        "# word_per_page = 0\n",
        "# pages = int(input(\"Number of pages: \"))\n",
        "# word_per_page = int(input(\"Number of words per page: \"))\n",
        "# total_words = pages * word_per_page\n",
        "# print(total_words)\n",
        "\n",
        "#Use a Debugger\n",
        "# def mutate(a_list):\n",
        "#   b_list = []\n",
        "#   for item in a_list:\n",
        "#     new_item = item * 2\n",
        "#     b_list.append(new_item)\n",
        "#   print(b_list)\n",
        "#\n",
        "# mutate([1,2,3,5,8,13])"
      ],
      "metadata": {
        "id": "BkSLAAaHfaSK"
      },
      "execution_count": null,
      "outputs": []
    },
    {
      "cell_type": "markdown",
      "source": [
        "# **day 14**"
      ],
      "metadata": {
        "id": "kkOZC-J-vl7g"
      }
    },
    {
      "cell_type": "code",
      "source": [
        "#### GMARA PAGE GUESSING GAME ####\n",
        "\n",
        "import random\n",
        "\n",
        "masahtot = {\n",
        "    \"ברכות\": 63,\n",
        "    \"שבת\": 156,\n",
        "    \"עירובין\": 104,\n",
        "    \"פסחים\": 120,\n",
        "    \"ראש השנה\": 34,\n",
        "    \"יומא\": 87,\n",
        "    \"סוכה\": 55,\n",
        "    \"ביצה\": 39,\n",
        "    \"תענית\": 30,\n",
        "    \"מגילה\": 31,\n",
        "    \"מועד קטן\": 28,\n",
        "    \"חגיגה\": 26,\n",
        "    \"יבמות\": 121,\n",
        "    \"כתובות\": 111,\n",
        "    \"נדרים\": 90,\n",
        "    \"נזיר\": 65,\n",
        "    \"סוטה\": 48,\n",
        "    \"גיטין\": 89,\n",
        "    \"קידושין\": 81,\n",
        "    \"בבא קמא\": 118,\n",
        "    \"בבא מציעא\": 118,\n",
        "    \"בבא בתרא\": 175,\n",
        "    \"סנהדרין\": 112,\n",
        "    \"מכות\": 23,\n",
        "    \"שבועות\": 48,\n",
        "    \"עבודה זרה\": 75,\n",
        "    \"הוריות\": 13,\n",
        "    \"זבחים\": 119,\n",
        "    \"מנחות\": 109,\n",
        "    \"חולין\": 141,\n",
        "    \"בכורות\": 60,\n",
        "    \"ערכין\": 33,\n",
        "    \"תמורה\": 33,\n",
        "    \"כריתות\": 27,\n",
        "    \"מעילה\": 21,\n",
        "    \"תמיד\": 8,\n",
        "    \"נידה\": 72\n",
        "}\n",
        "score = 0\n",
        "def game(score):\n",
        "    print(f\"YOUR SCORE IS {score}\")\n",
        "    first_ran = random.choice(list(masahtot.keys()))\n",
        "    sec_ran = random.choice(list(masahtot.keys()))\n",
        "    #to prevent same masehet\n",
        "    while first_ran == sec_ran:\n",
        "        sec_ran = random.choice(list(masahtot.keys()))\n",
        "    while True:\n",
        "        play = input(f\"לאיזה מסכת יש יותר דפים \\n1- {first_ran} --או-- 2-{sec_ran} ?  : \" [::-1] + '\\n')\n",
        "        win = \"\"\n",
        "        if play in ['1', '2']:\n",
        "            break\n",
        "        else:\n",
        "            print(\"Please enter either '1' or '2'.\")\n",
        "    if masahtot[first_ran] > masahtot[sec_ran]:\n",
        "        win = \"1\"\n",
        "    else:\n",
        "        win = \"2\"\n",
        "    if play == win:\n",
        "        print(\"YOU WIN \")\n",
        "        score += 1\n",
        "    else:\n",
        "        print(\"YOU LOSE\")\n",
        "        print(f\"YOU GOT TO ROUND {score}\")\n",
        "        score = 0\n",
        "    game(score)\n",
        "game(score)"
      ],
      "metadata": {
        "id": "CoK5iv53voLA"
      },
      "execution_count": null,
      "outputs": []
    }
  ]
}
