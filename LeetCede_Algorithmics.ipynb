{
 "cells": [
  {
   "cell_type": "markdown",
   "metadata": {},
   "source": [
    "LEETCODE"
   ]
  },
  {
   "cell_type": "code",
   "execution_count": 2,
   "metadata": {},
   "outputs": [
    {
     "name": "stdout",
     "output_type": "stream",
     "text": [
      "aqbrcsdtuv\n"
     ]
    }
   ],
   "source": [
    "word_1 = \"abcd\"\n",
    "word_2 = \"qrstuv\"\n",
    "\n",
    "def merge_words(word1, word2):\n",
    "    # Find longest word\n",
    "    longest_length = max(len(word1), len(word2))\n",
    "\n",
    "    # Merge them\n",
    "    merged_word = \"\"\n",
    "    for i in range(longest_length):\n",
    "        if i < len(word1):\n",
    "            merged_word += word1[i]\n",
    "        if i < len(word2):\n",
    "            merged_word += word2[i]\n",
    "    return merged_word\n",
    "\n",
    "print(merge_words(word_1, word_2))\n",
    "\n"
   ]
  },
  {
   "cell_type": "code",
   "execution_count": null,
   "metadata": {},
   "outputs": [
    {
     "name": "stdout",
     "output_type": "stream",
     "text": [
      "yytr\n"
     ]
    }
   ],
   "source": [
    "# Q: 75 if same keep remainder\n",
    "\n",
    "word_1 = \"abcd\"\n",
    "word_2 = \"abcdyytr\"\n",
    "\n",
    "def merge_words(word1,word2):\n",
    "    #find longest word\n",
    "    if len(word1)> len(word_2):\n",
    "        longest_word = word1\n",
    "        shortest_word = word2\n",
    "    else:\n",
    "        longest_word = word2\n",
    "        shortest_word = word1\n",
    "\n",
    "    #add \"_\" to shortest word to fill length to match longest word length\n",
    "    to_add_to_shortest = len(longest_word)-len(shortest_word)\n",
    "    shortest_word += (\"_\" * to_add_to_shortest)\n",
    "\n",
    "    #trim word 2 end if same\n",
    "    remainder_word = \"\"\n",
    "    for i in range(0, len(longest_word)):\n",
    "        if longest_word[i] == shortest_word[i] or shortest_word[i] == \"_\":\n",
    "            if shortest_word[i] == \"_\":\n",
    "                remainder_word += longest_word[i]\n",
    "        else:\n",
    "            break\n",
    "\n",
    "    print(remainder_word)\n",
    "\n",
    "\n",
    "merge_words(word_1,word_2)\n"
   ]
  },
  {
   "cell_type": "code",
   "execution_count": null,
   "metadata": {},
   "outputs": [],
   "source": [
    "#SWAP vowels\n",
    "\n",
    "vowels = [\"a\",\"e\",\"i\",\"o\",\"u\"]\n",
    "\n",
    "word = \"hello\"\n",
    "\n",
    "def swap_vowels(word,vowels):\n",
    "    #STEP 1 check for more than 2 vowels\n",
    "    #save vowel letters\n",
    "    counter = 0\n",
    "    vowels_new =[]\n",
    "\n",
    "    for letter in word:\n",
    "        if letter in vowels:\n",
    "            counter +=1\n",
    "            vowels_new.append(letter)\n",
    "    print(vowels_new)\n",
    "    #STEP 2 recreate new word\n",
    "    if counter >= 2:\n",
    "        new_word = \"\"\n",
    "        for letter in word:\n",
    "            if letter not in vowels:\n",
    "                new_word += letter\n",
    "            else:\n",
    "                new_word += vowels_new[-1]\n",
    "                vowels_new.pop(-1)\n",
    "            print(new_word)\n",
    "\n",
    "        print(new_word)\n",
    "\n",
    "swap_vowels(word,vowels)\n",
    "\n",
    "\n",
    "    \n",
    "    \n",
    "\n",
    "\n",
    "\n",
    "\n"
   ]
  },
  {
   "cell_type": "code",
   "execution_count": null,
   "metadata": {},
   "outputs": [],
   "source": [
    "#FLIP SENTENCE 18ms\n",
    "class Solution(object):\n",
    "    def reverseWords(self, s):\n",
    "        \"\"\"\n",
    "        :type s: str\n",
    "        :rtype: str\n",
    "        \"\"\"\n",
    "        str_lst = []\n",
    "        i = 0\n",
    "        current_word = \"\"\n",
    "        len_str = len(s)\n",
    "\n",
    "        # separate sentence to list\n",
    "        while i < len_str:\n",
    "            if s[i] != \" \":\n",
    "                current_word += s[i]\n",
    "            else:\n",
    "                if current_word:\n",
    "                    str_lst.append(current_word)\n",
    "                    current_word = \"\"\n",
    "            i += 1\n",
    "        if current_word:\n",
    "            str_lst.append(current_word)\n",
    "\n",
    "        # reverse sentence\n",
    "        reversed_sentence = \"\"\n",
    "        for word in str_lst[::-1]:\n",
    "            reversed_sentence += word + \" \"\n",
    "\n",
    "        return reversed_sentence.strip()  # remove trailing space"
   ]
  },
  {
   "cell_type": "code",
   "execution_count": null,
   "metadata": {},
   "outputs": [],
   "source": [
    "#FLIP SENTENCE SHORT PY VER 15 ms\n",
    "class Solution(object):\n",
    "    def reverseWords(self, s):\n",
    "        \"\"\"\n",
    "        :type s: str\n",
    "        :rtype: str\n",
    "        \"\"\"\n",
    "        # Split the sentence into words\n",
    "        words = s.split()\n",
    "        \n",
    "        # Reverse the list of words\n",
    "        words.reverse()\n",
    "        \n",
    "        # Join the reversed list into a single string\n",
    "        reversed_sentence = \" \".join(words)\n",
    "        \n",
    "        return reversed_sentence\n",
    "\n",
    "# Example usage\n",
    "solution = Solution()\n",
    "str1 = \"the sky is blue \"\n",
    "print(solution.reverseWords(str1))  # Output: \"blue is sky the\"\n",
    "\n",
    "\n",
    "\n"
   ]
  },
  {
   "cell_type": "code",
   "execution_count": 7,
   "metadata": {},
   "outputs": [
    {
     "name": "stdout",
     "output_type": "stream",
     "text": [
      "False\n"
     ]
    }
   ],
   "source": [
    "def  seperate(lst):\n",
    "    num_list = []\n",
    "    for n in lst:       \n",
    "        size = (10 ** (len(str(n))-1))\n",
    "        current_num = n\n",
    "        while current_num > 0:\n",
    "            if current_num >= 10:\n",
    "                num_list.append(current_num // size)\n",
    "                current_num %= size\n",
    "                size //= 10\n",
    "               \n",
    "            else:\n",
    "                num_list.append(current_num)\n",
    "                current_num = 0\n",
    "\n",
    "    return num_list\n",
    "\n",
    "def  find_triplet():\n",
    "    num_list = [1,2,3,4,5]\n",
    "\n",
    "    counter = 0\n",
    "\n",
    "    for i in range(len(num_list)-2):\n",
    "        counter = 0\n",
    "        current = num_list[i]\n",
    "        for j in range(i+1, len(num_list)):                   \n",
    "            if num_list[j] > current:\n",
    "                counter += 1\n",
    "                current = num_list[j]\n",
    "               \n",
    "        \n",
    "    if counter == 2:\n",
    "        return True\n",
    "    else: \n",
    "        return False\n",
    "    \n",
    "print(find_triplet())\n",
    "            \n",
    "\n",
    "\n"
   ]
  },
  {
   "cell_type": "markdown",
   "metadata": {},
   "source": [
    "443. String Compression"
   ]
  },
  {
   "cell_type": "code",
   "execution_count": null,
   "metadata": {},
   "outputs": [],
   "source": [
    "class Solution(object):\n",
    "    def compress(self, chars):\n",
    "        \"\"\"\n",
    "        :type chars: List[str]\n",
    "        :rtype: int\n",
    "        \"\"\"\n",
    "        compressed = []\n",
    "        cur_sum = 1\n",
    "        current_char = chars[0]\n",
    "        \n",
    "        for i in range(1, len(chars)):\n",
    "            if chars[i] == current_char:\n",
    "                cur_sum += 1\n",
    "            else:\n",
    "                compressed.append(current_char)\n",
    "                if cur_sum > 1:\n",
    "                    compressed.extend(list(str(cur_sum)))\n",
    "                current_char = chars[i]\n",
    "                cur_sum = 1\n",
    "\n",
    "        compressed.append(current_char)\n",
    "        if cur_sum > 1:\n",
    "            compressed.extend(list(str(cur_sum)))\n",
    "\n",
    "        for i in range(len(compressed)):\n",
    "            chars[i] = compressed[i]\n",
    "\n",
    "        return len(compressed)\n",
    "\n",
    "# Example usage:\n",
    "solution = Solution()\n",
    "chars = [\"a\", \"a\", \"b\", \"b\", \"c\", \"c\", \"c\"]\n",
    "new_length = solution.compress(chars)\n",
    "print(chars[:new_length])  # Output: ['a', '2', 'b', '2', 'c', '3']\n",
    "print(new_length)  # Output: 6\n"
   ]
  },
  {
   "cell_type": "markdown",
   "metadata": {},
   "source": [
    "283. Move Zeroes"
   ]
  },
  {
   "cell_type": "code",
   "execution_count": null,
   "metadata": {},
   "outputs": [],
   "source": [
    "lst_num =[0,0,1]\n",
    "\n",
    "def move_zero(lst):\n",
    "    len_list = len(lst)\n",
    "    i = 0  \n",
    "    while i < len_list:\n",
    "        if lst[i] == 0:\n",
    "            lst.pop(i)  \n",
    "            lst.append(0)  \n",
    "            len_list -= 1 \n",
    "        else:\n",
    "            i += 1 \n",
    "    return lst\n",
    "\n",
    "print(move_zero(lst_num))"
   ]
  },
  {
   "cell_type": "code",
   "execution_count": null,
   "metadata": {},
   "outputs": [],
   "source": [
    "# is subsequence\n",
    "\n",
    "short = \"abc\"\n",
    "long = \"ahbgdc\"\n",
    "\n",
    "\n",
    "# Convert short word to list\n",
    "short_lst = list(short)\n",
    "\n",
    "# Iterate over long and search for short\n",
    "count = 0\n",
    "for char in long:\n",
    "    if count < len(short_lst) and char == short_lst[count]:\n",
    "        count += 1\n",
    "\n",
    "#if short_lst is empty then True\n",
    "if len(short_lst) == 0:\n",
    "    print (True)\n",
    "    # return True \n",
    "else:\n",
    "    print (False)\n",
    "    # return False\n",
    "    "
   ]
  }
 ],
 "metadata": {
  "kernelspec": {
   "display_name": "Python 3",
   "language": "python",
   "name": "python3"
  },
  "language_info": {
   "codemirror_mode": {
    "name": "ipython",
    "version": 3
   },
   "file_extension": ".py",
   "mimetype": "text/x-python",
   "name": "python",
   "nbconvert_exporter": "python",
   "pygments_lexer": "ipython3",
   "version": "3.12.3"
  }
 },
 "nbformat": 4,
 "nbformat_minor": 2
}
