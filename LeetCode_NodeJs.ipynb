{
 "cells": [
  {
   "cell_type": "markdown",
   "metadata": {},
   "source": [
    "func summary\n",
    "\n"
   ]
  },
  {
   "cell_type": "markdown",
   "metadata": {},
   "source": [
    "SET 1 : Closure\n",
    "closure is using a var from outside the func scope"
   ]
  },
  {
   "cell_type": "markdown",
   "metadata": {},
   "source": [
    "1: 2667. Create Hello World Function\n",
    "-return function"
   ]
  },
  {
   "cell_type": "markdown",
   "metadata": {},
   "source": [
    "var createHelloWorld = function() {\n",
    "    return function() {\n",
    "        return \"Hello World\";\n",
    "    };\n",
    "};\n",
    "\n",
    "// Calling createHelloWorld and assigning the returned function to f\n",
    "const f = createHelloWorld();\n",
    "\n",
    "// Invoking f\n",
    "console.log(f()); // Output: \"Hello World\""
   ]
  },
  {
   "cell_type": "markdown",
   "metadata": {},
   "source": [
    "2: 2620. Counter\n",
    "-const counter holds and gets a function with a arg val"
   ]
  },
  {
   "cell_type": "markdown",
   "metadata": {},
   "source": [
    "function createCounter(n) {\n",
    "    // The counter variable is enclosed in the closure\n",
    "    let count = n;\n",
    "\n",
    "    // Return the counter function\n",
    "    return function() {\n",
    "        return count++;\n",
    "    }\n",
    "}\n",
    "\n",
    "// Example usage:\n",
    "const counter = createCounter(10);\n",
    "console.log(counter()); // 10\n",
    "console.log(counter()); // 11\n",
    "console.log(counter()); // 12\n"
   ]
  },
  {
   "cell_type": "markdown",
   "metadata": {},
   "source": [
    "3: 2704. To Be Or Not To Be\n",
    "- dot syntax: "
   ]
  },
  {
   "cell_type": "markdown",
   "metadata": {},
   "source": [
    "/**\n",
    " * @param {any} val\n",
    " * @return {Object}\n",
    " */\n",
    "var expect = function(val) {\n",
    "    let a = val;\n",
    "    \n",
    "    return {\n",
    "        toBe: function(val) {\n",
    "         if(a === val) return true;\n",
    "         else throw new Error(\"Not Equal\");\n",
    "        },\n",
    "        \n",
    "        notToBe: function(val) {\n",
    "            if(a !== val) return true;\n",
    "         else throw new Error(\"Equal\");\n",
    "        }\n",
    "        }\n",
    "    };\n",
    "\n",
    "/**\n",
    " * expect(5).toBe(5); // true\n",
    " * expect(5).notToBe(5); // false"
   ]
  }
 ],
 "metadata": {
  "language_info": {
   "name": "python"
  }
 },
 "nbformat": 4,
 "nbformat_minor": 2
}
