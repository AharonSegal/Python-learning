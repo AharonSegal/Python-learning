{
  "nbformat": 4,
  "nbformat_minor": 0,
  "metadata": {
    "colab": {
      "provenance": []
    },
    "kernelspec": {
      "name": "python3",
      "display_name": "Python 3"
    },
    "language_info": {
      "name": "python"
    }
  },
  "cells": [
    {
      "cell_type": "markdown",
      "source": [
        "2.2.3 inputs"
      ],
      "metadata": {
        "id": "3NTy4EE8wYxv"
      }
    },
    {
      "cell_type": "code",
      "source": [
        "a = input(\"Please entet three digits: \")\n",
        "a = int(a)\n",
        "bear_1 = a // 100\n",
        "b = a % 100\n",
        "bear_2 = b // 10\n",
        "bear_3 = b % 10\n",
        "sum_num =bear_1 +bear_2 + bear_3\n",
        "equal_1 = sum_num // 3\n",
        "remainder = sum_num % 3\n",
        "remainder_0 = sum_num % 3 == 0\n",
        "print(sum_num , equal_1 , remainder , remainder_0 , sep = \"\\n\")"
      ],
      "metadata": {
        "id": "wWSR_IQ6weJ0"
      },
      "execution_count": null,
      "outputs": []
    },
    {
      "cell_type": "markdown",
      "source": [
        "3.4.3 len"
      ],
      "metadata": {
        "id": "VRi13_1pw0OY"
      }
    },
    {
      "cell_type": "code",
      "source": [
        "user = input(\"Enter you string: \")\n",
        "x = len(user)//2\n",
        "lower_cs = user[0 : x]\n",
        "upuer_cs = user[ x: ]\n",
        "upuer_cs = upuer_cs.upper()\n",
        "print(lower_cs + upuer_cs)"
      ],
      "metadata": {
        "id": "8dahfdtFxDXy"
      },
      "execution_count": null,
      "outputs": []
    },
    {
      "cell_type": "code",
      "source": [
        "3.5.3 len replace join"
      ],
      "metadata": {
        "id": "nnGrmXs9xIDA"
      },
      "execution_count": null,
      "outputs": []
    },
    {
      "cell_type": "code",
      "source": [
        "user = input(\"Please enter your input: \")\n",
        "user = user.strip().replace(\" \", \"\")\n",
        "#input_len = len(user)\n",
        "output = (\"_\") * len(user)\n",
        "output = \" \".join(output)\n",
        "print(output)"
      ],
      "metadata": {
        "id": "FE6DmFsPxMoP"
      },
      "execution_count": null,
      "outputs": []
    },
    {
      "cell_type": "markdown",
      "source": [
        "*4.2*.2 filandrom"
      ],
      "metadata": {
        "id": "0SXDZ5rPPAJG"
      }
    },
    {
      "cell_type": "code",
      "source": [
        "input_user = input()\n",
        "x = input_user\n",
        "\n",
        "def is_filandrom(y):\n",
        "  y = y.replace(\" \",\"\")\n",
        "  if y == y[::-1]:\n",
        "    return True\n",
        "\n",
        "print(is_filandrom(x))"
      ],
      "metadata": {
        "colab": {
          "base_uri": "https://localhost:8080/"
        },
        "id": "4K7XexYi8rJu",
        "outputId": "08ef8cdd-a78e-4fd3-d7ae-fc19a80bba54"
      },
      "execution_count": null,
      "outputs": [
        {
          "output_type": "stream",
          "name": "stdout",
          "text": [
            "borrow or rob\n",
            "True\n"
          ]
        }
      ]
    },
    {
      "cell_type": "markdown",
      "source": [
        "\n",
        "4.2.3 temprature converter\n",
        "```\n",
        "# This is formatted as code\n",
        "```\n",
        "\n"
      ],
      "metadata": {
        "id": "4WBR9JbFPWa3"
      }
    },
    {
      "cell_type": "code",
      "source": [
        "while True:\n",
        "  choice = input(\"What would you like to convert,\"\"/n\"\" Please enter C or F: \").upper()\n",
        "\n",
        "  if choice not in ('F', 'C'):\n",
        "    print(\"please enter C of F\")\n",
        "  else:\n",
        "     break\n",
        "\n",
        "if choice == ('C'):\n",
        "  while True:\n",
        "    try:\n",
        "      cel = float(input(\"Enter Celcius value you would like to convert: \"))\n",
        "      cel_to_far = (9 * cel + 32 * 5) / 5\n",
        "      print(\"Converted temperature in Fahrenheit:\", cel_to_far)\n",
        "      break\n",
        "    except ValueError:\n",
        "      print(\"Please enter a valid number for Celsius.\")\n",
        "\n",
        "else:\n",
        "  while True:\n",
        "    try:\n",
        "      far = float(input(\"Enter Fahrenheit value you would like to convert: \"))\n",
        "      far_to_cel = (5 * far - 160) / 5\n",
        "      print(\"Converted temperature in Celsius:\",far_to_cel)\n",
        "      break\n",
        "    except ValueError:\n",
        "        print(\"Please enter a valid number for Fahrenheit.\")"
      ],
      "metadata": {
        "colab": {
          "base_uri": "https://localhost:8080/"
        },
        "id": "WlC7GgSGPitP",
        "outputId": "72124b6f-7ae9-4104-c172-ab678e30cf49"
      },
      "execution_count": null,
      "outputs": [
        {
          "output_type": "stream",
          "name": "stdout",
          "text": [
            "What would you like to convert,/n Please enter C or F: kjgh\n",
            "please enter C of F\n",
            "What would you like to convert,/n Please enter C or F: jkg\n",
            "please enter C of F\n",
            "What would you like to convert,/n Please enter C or F: f\n",
            "Enter Fahrenheit value you would like to convert: jhgf\n",
            "Please enter a valid number for Fahrenheit.\n",
            "Enter Fahrenheit value you would like to convert: 87\n",
            "Converted temperature in Celsius: 55.0\n"
          ]
        }
      ]
    },
    {
      "cell_type": "markdown",
      "source": [
        "4.2.2 date_time"
      ],
      "metadata": {
        "id": "ZrmreffAovza"
      }
    },
    {
      "cell_type": "code",
      "source": [
        "from datetime import datetime\n",
        "\n",
        "while True:\n",
        "    date_str = input(\"Enter a date (dd/mm/yyyy): \")\n",
        "    try:\n",
        "        # Remove any non-digit characters from the input date string\n",
        "        date_str_digits = ''.join(filter(str.isdigit, date_str))\n",
        "\n",
        "        # Parse the date string with different separators\n",
        "        date_formats = [\"%d%m%Y\", \"%d.%m.%Y\", \"%d/%m/%Y\"]\n",
        "        for fmt in date_formats:\n",
        "            try:\n",
        "                date = datetime.strptime(date_str_digits, fmt)\n",
        "                print(date.strftime(\"%A\"))\n",
        "                break\n",
        "            except ValueError:\n",
        "                pass\n",
        "        else:\n",
        "            raise ValueError(\"Invalid date format\")\n",
        "\n",
        "        break  # Exit the loop if a valid date is parsed\n",
        "    except ValueError:\n",
        "        print(\"Invalid date format. Please enter date in the format dd/mm/yyyy or similar.\")\n"
      ],
      "metadata": {
        "colab": {
          "base_uri": "https://localhost:8080/",
          "height": 219
        },
        "id": "WhX0Kyx-ozur",
        "outputId": "cb7ba205-6a93-488a-a964-644a51fcd63b"
      },
      "execution_count": null,
      "outputs": [
        {
          "output_type": "error",
          "ename": "TypeError",
          "evalue": "'list' object is not callable",
          "traceback": [
            "\u001b[0;31m---------------------------------------------------------------------------\u001b[0m",
            "\u001b[0;31mTypeError\u001b[0m                                 Traceback (most recent call last)",
            "\u001b[0;32m<ipython-input-9-a59e8773fe1c>\u001b[0m in \u001b[0;36m<cell line: 3>\u001b[0;34m()\u001b[0m\n\u001b[1;32m      2\u001b[0m \u001b[0;34m\u001b[0m\u001b[0m\n\u001b[1;32m      3\u001b[0m \u001b[0;32mwhile\u001b[0m \u001b[0;32mTrue\u001b[0m\u001b[0;34m:\u001b[0m\u001b[0;34m\u001b[0m\u001b[0;34m\u001b[0m\u001b[0m\n\u001b[0;32m----> 4\u001b[0;31m     \u001b[0mdate_str\u001b[0m \u001b[0;34m=\u001b[0m \u001b[0minput\u001b[0m\u001b[0;34m(\u001b[0m\u001b[0;34m\"Enter a date (dd/mm/yyyy): \"\u001b[0m\u001b[0;34m)\u001b[0m\u001b[0;34m\u001b[0m\u001b[0;34m\u001b[0m\u001b[0m\n\u001b[0m\u001b[1;32m      5\u001b[0m     \u001b[0;32mtry\u001b[0m\u001b[0;34m:\u001b[0m\u001b[0;34m\u001b[0m\u001b[0;34m\u001b[0m\u001b[0m\n\u001b[1;32m      6\u001b[0m         \u001b[0;31m# Remove any non-digit characters from the input date string\u001b[0m\u001b[0;34m\u001b[0m\u001b[0;34m\u001b[0m\u001b[0m\n",
            "\u001b[0;31mTypeError\u001b[0m: 'list' object is not callable"
          ]
        }
      ]
    },
    {
      "cell_type": "markdown",
      "source": [
        "5.1.1 mystery function"
      ],
      "metadata": {
        "id": "K7IQsg-5v2zm"
      }
    },
    {
      "cell_type": "code",
      "source": [
        "def mystery(index):\n",
        "     print(\"z\" * len(index))\n",
        "\n",
        "mystery(\"lll\")\n",
        "\n",
        "func = mystery\n",
        "func(\"python\")"
      ],
      "metadata": {
        "colab": {
          "base_uri": "https://localhost:8080/"
        },
        "id": "sKuJCsSUv6Np",
        "outputId": "270328da-5abf-46e2-9a37-69659c640f9a"
      },
      "execution_count": null,
      "outputs": [
        {
          "output_type": "stream",
          "name": "stdout",
          "text": [
            "zzz\n",
            "zzzzzz\n"
          ]
        }
      ]
    },
    {
      "cell_type": "code",
      "source": [
        "def manny(x):\n",
        "    print(x * 5)\n",
        "\n",
        "manny(6)\n",
        "\n",
        "def shoot(index):\n",
        "    print(\"z\" * len(index))\n",
        "\n",
        "shoot(3)"
      ],
      "metadata": {
        "colab": {
          "base_uri": "https://localhost:8080/",
          "height": 315
        },
        "id": "hhxDTdeWxDx5",
        "outputId": "7bdec847-0caf-4fae-e9eb-4746dd0589d9"
      },
      "execution_count": null,
      "outputs": [
        {
          "output_type": "stream",
          "name": "stdout",
          "text": [
            "30\n"
          ]
        },
        {
          "output_type": "error",
          "ename": "TypeError",
          "evalue": "object of type 'int' has no len()",
          "traceback": [
            "\u001b[0;31m---------------------------------------------------------------------------\u001b[0m",
            "\u001b[0;31mTypeError\u001b[0m                                 Traceback (most recent call last)",
            "\u001b[0;32m<ipython-input-87-e47995c7b217>\u001b[0m in \u001b[0;36m<cell line: 9>\u001b[0;34m()\u001b[0m\n\u001b[1;32m      7\u001b[0m     \u001b[0mprint\u001b[0m\u001b[0;34m(\u001b[0m\u001b[0;34m\"z\"\u001b[0m \u001b[0;34m*\u001b[0m \u001b[0mlen\u001b[0m\u001b[0;34m(\u001b[0m\u001b[0mindex\u001b[0m\u001b[0;34m)\u001b[0m\u001b[0;34m)\u001b[0m\u001b[0;34m\u001b[0m\u001b[0;34m\u001b[0m\u001b[0m\n\u001b[1;32m      8\u001b[0m \u001b[0;34m\u001b[0m\u001b[0m\n\u001b[0;32m----> 9\u001b[0;31m \u001b[0mshoot\u001b[0m\u001b[0;34m(\u001b[0m\u001b[0;36m3\u001b[0m\u001b[0;34m)\u001b[0m\u001b[0;34m\u001b[0m\u001b[0;34m\u001b[0m\u001b[0m\n\u001b[0m",
            "\u001b[0;32m<ipython-input-87-e47995c7b217>\u001b[0m in \u001b[0;36mshoot\u001b[0;34m(index)\u001b[0m\n\u001b[1;32m      5\u001b[0m \u001b[0;34m\u001b[0m\u001b[0m\n\u001b[1;32m      6\u001b[0m \u001b[0;32mdef\u001b[0m \u001b[0mshoot\u001b[0m\u001b[0;34m(\u001b[0m\u001b[0mindex\u001b[0m\u001b[0;34m)\u001b[0m\u001b[0;34m:\u001b[0m\u001b[0;34m\u001b[0m\u001b[0;34m\u001b[0m\u001b[0m\n\u001b[0;32m----> 7\u001b[0;31m     \u001b[0mprint\u001b[0m\u001b[0;34m(\u001b[0m\u001b[0;34m\"z\"\u001b[0m \u001b[0;34m*\u001b[0m \u001b[0mlen\u001b[0m\u001b[0;34m(\u001b[0m\u001b[0mindex\u001b[0m\u001b[0;34m)\u001b[0m\u001b[0;34m)\u001b[0m\u001b[0;34m\u001b[0m\u001b[0;34m\u001b[0m\u001b[0m\n\u001b[0m\u001b[1;32m      8\u001b[0m \u001b[0;34m\u001b[0m\u001b[0m\n\u001b[1;32m      9\u001b[0m \u001b[0mshoot\u001b[0m\u001b[0;34m(\u001b[0m\u001b[0;36m3\u001b[0m\u001b[0;34m)\u001b[0m\u001b[0;34m\u001b[0m\u001b[0;34m\u001b[0m\u001b[0m\n",
            "\u001b[0;31mTypeError\u001b[0m: object of type 'int' has no len()"
          ]
        }
      ]
    },
    {
      "cell_type": "code",
      "source": [],
      "metadata": {
        "id": "KnMKUs4pxDlw"
      },
      "execution_count": null,
      "outputs": []
    },
    {
      "cell_type": "markdown",
      "source": [
        "5.2 animal"
      ],
      "metadata": {
        "id": "wNHGelp1ED1O"
      }
    },
    {
      "cell_type": "code",
      "source": [
        "animal = \"rabbit\"\n",
        "\n",
        "def water():\n",
        "  animal = \"goldfish\"\n",
        "  print(animal)\n",
        "\n",
        "water()\n",
        "print(animal)"
      ],
      "metadata": {
        "colab": {
          "base_uri": "https://localhost:8080/"
        },
        "id": "Hpe0uKE6EFVa",
        "outputId": "a99ce7c8-0a10-4e6c-e00d-14b6a2892b48"
      },
      "execution_count": null,
      "outputs": [
        {
          "output_type": "stream",
          "name": "stdout",
          "text": [
            "goldfish\n",
            "rabbit\n"
          ]
        }
      ]
    },
    {
      "cell_type": "markdown",
      "source": [
        "5.3.1 greeting"
      ],
      "metadata": {
        "id": "U9WWHT8AH_Np"
      }
    },
    {
      "cell_type": "code",
      "source": [],
      "metadata": {
        "id": "wrHg4DnPH-1t"
      },
      "execution_count": null,
      "outputs": []
    },
    {
      "cell_type": "code",
      "source": [
        "def remainder(base, divide_by=2, show_greeting=True):\n",
        "    if show_greeting:\n",
        "        print(\"Welcome to my function\")\n",
        "    print(base % divide_by)\n",
        "\n",
        "remainder(9)"
      ],
      "metadata": {
        "colab": {
          "base_uri": "https://localhost:8080/"
        },
        "id": "vVDCSzUKIDtu",
        "outputId": "c2883c9a-6458-42a6-e2f5-523700f6f8e1"
      },
      "execution_count": null,
      "outputs": [
        {
          "output_type": "stream",
          "name": "stdout",
          "text": [
            "Welcome to my function\n",
            "1\n"
          ]
        }
      ]
    },
    {
      "cell_type": "markdown",
      "source": [
        "5.3.4 last early"
      ],
      "metadata": {
        "id": "SG-zrKLgKfk5"
      }
    },
    {
      "cell_type": "code",
      "source": [
        "def last_early(my_str):\n",
        "    return sentence[-1] in sentence[:-1]\n",
        "\n",
        "sentence = (\"hi, my name is Aharon! Im studying python!\")\n",
        "\n",
        "print(last_early(sentence))"
      ],
      "metadata": {
        "colab": {
          "base_uri": "https://localhost:8080/"
        },
        "id": "NhtrHEeIKjXS",
        "outputId": "26b3bf64-f0db-4cca-f0f3-811db94c9001"
      },
      "execution_count": null,
      "outputs": [
        {
          "output_type": "stream",
          "name": "stdout",
          "text": [
            "True\n"
          ]
        }
      ]
    },
    {
      "cell_type": "markdown",
      "source": [
        "5.3.5 distace bool"
      ],
      "metadata": {
        "id": "IXO1YGewOWEq"
      }
    },
    {
      "cell_type": "code",
      "source": [
        "numbers = []\n",
        "\n",
        "for i in range(3):\n",
        "    num = int(input(\"Enter number {}: \".format(i+1)))\n",
        "    numbers.append(num)\n",
        "\n",
        "def distance(a, s, d):\n",
        "    min_num = min(a, s, d)\n",
        "    max_num = max(a, s, d)\n",
        "    return max_num - min_num > 5\n",
        "\n",
        "print(distance(*numbers))"
      ],
      "metadata": {
        "id": "t2IHh1UnOZby",
        "colab": {
          "base_uri": "https://localhost:8080/"
        },
        "outputId": "703a76fd-d10e-46a2-9a66-cdd3085ee6c5"
      },
      "execution_count": null,
      "outputs": [
        {
          "name": "stdout",
          "output_type": "stream",
          "text": [
            "Enter number 1: 4\n"
          ]
        }
      ]
    },
    {
      "cell_type": "code",
      "source": [
        "5.3.6 filter_teen"
      ],
      "metadata": {
        "id": "nILMzYhjaWY4"
      },
      "execution_count": null,
      "outputs": []
    },
    {
      "cell_type": "code",
      "source": [
        "def filter_teens(a=13, b=13, c=13):\n",
        "    def remove_teen(n):\n",
        "        return n if n not in [13, 14, 17, 18, 19] else 0\n",
        "\n",
        "    return remove_teen(a) + remove_teen(b) + remove_teen(c)\n",
        "\n",
        "numbers = []\n",
        "\n",
        "for i in range(3):\n",
        "    num = int(input(\"Enter number {}: \".format(i + 1)))\n",
        "    numbers.append(num)\n",
        "\n",
        "print(filter_teens(*numbers))"
      ],
      "metadata": {
        "id": "pE_Sd07GaZni",
        "colab": {
          "base_uri": "https://localhost:8080/"
        },
        "outputId": "9bfa978e-dbc3-470d-91ea-c2e7caa98b52"
      },
      "execution_count": null,
      "outputs": [
        {
          "output_type": "stream",
          "name": "stdout",
          "text": [
            "Enter number 1: 3\n",
            "Enter number 2: 5\n",
            "Enter number 3: 14\n",
            "8\n"
          ]
        }
      ]
    },
    {
      "cell_type": "markdown",
      "source": [
        "5.3.7 chocolate_maker"
      ],
      "metadata": {
        "id": "vdXOOsb_dJuR"
      }
    },
    {
      "cell_type": "code",
      "source": [
        "def chocolate_maker(small, big, x):\n",
        "  if (small + 5*big) < x:\n",
        "    return False\n",
        "  if x % 5 > small:\n",
        "    return False\n",
        "  return True\n",
        "\n",
        "chocolate_small = int(input(\"Enter the number of SMALL chocolate cubes: \"))\n",
        "chocolate_big = int(input(\"Enter the number of BIG chocolate cubes: \"))\n",
        "chocolate_size = int(input(\"Enter length of desired bar: \"))\n",
        "\n",
        "result =chocolate_maker(chocolate_small, chocolate_big, chocolate_size)\n",
        "\n",
        "print(result)\n",
        "\n"
      ],
      "metadata": {
        "id": "I4oCPF10dSwL"
      },
      "execution_count": null,
      "outputs": []
    },
    {
      "cell_type": "code",
      "source": [
        "5.4.1 finction documentation"
      ],
      "metadata": {
        "id": "4k1MRHI8S0TG"
      },
      "execution_count": null,
      "outputs": []
    },
    {
      "cell_type": "code",
      "source": [
        "\n",
        "def main():\n",
        "    # Call the function func\n",
        "\n",
        "    def func(num1, num2):\n",
        "        \"\"\"add two numbers\n",
        "        :param num1: the first number\n",
        "        :param num2: the second number\n",
        "        :type num1 : int\n",
        "        :type num2 : int\n",
        "        :return: the sum of the two numbers\n",
        "        :rtype: int\n",
        "        return num1 + num2\n",
        "        \"\"\"\n",
        "        return num1 + num2\n",
        "\n",
        "    num1 = int(input(\"Enter the first number: \"))\n",
        "    num2 = int(input(\"Enter the second number: \"))\n",
        "\n",
        "    result = func(num1, num2)\n",
        "    print(result)\n",
        "\n",
        "if __name__ == \"__main__\":\n",
        "    main()"
      ],
      "metadata": {
        "id": "0EDKTkyeS5Qy"
      },
      "execution_count": null,
      "outputs": []
    },
    {
      "cell_type": "markdown",
      "source": [
        "6.1.2 shift left list"
      ],
      "metadata": {
        "id": "fFnWJwaPYjnw"
      }
    },
    {
      "cell_type": "code",
      "source": [
        "\n",
        "def main():\n",
        "    # Call the function func\n",
        "    def shift_left(my_list):\n",
        "        \"\"\"Shifts the list left by one element\n",
        "        :param my_list: list to shift\n",
        "        :type my_list: list\n",
        "        :return: list\n",
        "        :rtype: list\n",
        "        \"\"\"\n",
        "        return my_list[1:] + my_list[:1]\n",
        "\n",
        "    index = shift_left([1, 2, 3, 4, 5])\n",
        "    print(index)\n",
        "\n",
        "if __name__ == \"__main__\":\n",
        "    main()"
      ],
      "metadata": {
        "id": "tId9Fs5oYisA"
      },
      "execution_count": null,
      "outputs": []
    },
    {
      "cell_type": "code",
      "source": [
        "6.2.3 formated list"
      ],
      "metadata": {
        "id": "XVR5RN2rreqv"
      },
      "execution_count": null,
      "outputs": []
    },
    {
      "cell_type": "code",
      "source": [
        "def main():\n",
        "    def format_list(my_list):\n",
        "        \"\"\"Format a list of chemicals into a single string, remove the even indexed, add the last element with \"and\"\n",
        "        :param my_list: list to format\n",
        "        :type my_list: list\n",
        "        :return: formatted string\n",
        "        :rtype: str\n",
        "        \"\"\"\n",
        "        format_start = \", \".join(my_list[::2])\n",
        "        format_full = format_start + \", and \" + my_list[-1]\n",
        "        return format_full\n",
        "\n",
        "    chem_list = [\"hydrogen\", \"helium\", \"lithium\", \"beryllium\", \"boron\", \"magnesium\"]\n",
        "    print(format_list(chem_list))\n",
        "\n",
        "if __name__ == \"__main__\":\n",
        "    main()"
      ],
      "metadata": {
        "id": "8SyPEg6SYiVV",
        "outputId": "0b5e251f-748c-485f-a08f-5af640bf9f86",
        "colab": {
          "base_uri": "https://localhost:8080/"
        }
      },
      "execution_count": null,
      "outputs": [
        {
          "output_type": "stream",
          "name": "stdout",
          "text": [
            "hydrogen, lithium, boron, and magnesium\n"
          ]
        }
      ]
    },
    {
      "cell_type": "markdown",
      "source": [
        "6.2.4 extended list"
      ],
      "metadata": {
        "id": "h5e3-Cpwxqbz"
      }
    },
    {
      "cell_type": "code",
      "source": [
        "def main():\n",
        "    def extend_list_x(list_x, list_y):\n",
        "        \"\"\"merge two lists into a single list.\n",
        "            no use of + operator\n",
        "            no use of extend func\n",
        "            set y first than x.\n",
        "        :param list_x: first list\n",
        "        :param list_y: second list\n",
        "        :type list_x: list\n",
        "        :type list_y: list\n",
        "        :return: ex_stuff\n",
        "        :rtype: list\"\"\"\n",
        "        ex_lst = list_y.copy(), list_x.copy()\n",
        "        ex_stuff = [element for sublist in ex_lst for element in sublist]\n",
        "        return ex_stuff\n",
        "\n",
        "\n",
        "    x = [4,5,6]\n",
        "    y = [1,2,3]\n",
        "\n",
        "\n",
        "    print(extend_list_x(x, y))\n",
        "\n",
        "\n",
        "\n",
        "\n",
        "if __name__ == \"__main__\":\n",
        "    main()"
      ],
      "metadata": {
        "id": "OnlIPskeYiHm"
      },
      "execution_count": null,
      "outputs": []
    },
    {
      "cell_type": "markdown",
      "source": [
        "6.3.1 are_list_equal"
      ],
      "metadata": {
        "id": "Jd2U9tZ0slar"
      }
    },
    {
      "cell_type": "code",
      "source": [
        "def main():\n",
        "    def are_lists_equal(list1, list2):\n",
        "        \"\"\"Check if two lists are equal.\n",
        "            no use of loops\n",
        "        :param list1: first list\n",
        "        :param list2: second list\n",
        "        :type list1: list\n",
        "        type list2: list\n",
        "        :return: True if\n",
        "        :rtype: bool\"\"\"\n",
        "        list1.sort()\n",
        "        list2.sort()\n",
        "        return list1 == list2\n",
        "\n",
        "    nums_1 = [0.6, 1, 2, 3]\n",
        "    nums_2 = [3, 2, 0.6, 1]\n",
        "    nums_3 = [9, 0, 5, 10.5]\n",
        "\n",
        "    print(are_lists_equal(nums_1, nums_2))\n",
        "    print(are_lists_equal(nums_2, nums_3))\n",
        "    print(are_lists_equal(nums_3, nums_1))\n",
        "\n",
        "if __name__ == \"__main__\":\n",
        "    main()"
      ],
      "metadata": {
        "id": "l_CUhoa6spdA"
      },
      "execution_count": null,
      "outputs": []
    },
    {
      "cell_type": "markdown",
      "source": [
        "6.3.2 longest srting"
      ],
      "metadata": {
        "id": "yIE7DFFsuExK"
      }
    },
    {
      "cell_type": "code",
      "source": [
        "def main():\n",
        "    def longest(my_list):\n",
        "        \"\"\"Returns the longest string in the list.\n",
        "        :param my_list:\n",
        "        :my_list: list\n",
        "        :return: longest\n",
        "        :rtype: str\"\"\"\n",
        "        longest = max(my_list, key=len)\n",
        "        return longest\n",
        "\n",
        "    list1 = [\"111\", \"234\", \"2000\", \"goru\", \"birthday\", \"09\"]\n",
        "\n",
        "    print(longest(list1))\n",
        "\n",
        "if __name__ == \"__main__\":\n",
        "    main()"
      ],
      "metadata": {
        "id": "1KPrlgc1uI8l"
      },
      "execution_count": null,
      "outputs": []
    },
    {
      "cell_type": "markdown",
      "source": [
        "# 7.1.2 start>stop square"
      ],
      "metadata": {
        "id": "nc7dxPXFzvQy"
      }
    },
    {
      "cell_type": "code",
      "source": [
        "def main():\n",
        "    def squared_numbers(start, stop):\n",
        "        \"\"\"Return a list of numbers from start to stop, squared.\n",
        "        :start: The starting number.\n",
        "        :stop: The ending number.\n",
        "        :type start: int\n",
        "        :type stop: int\n",
        "        :returns: A list of numbers from start to stop\n",
        "        :rtype: list\"\"\"\n",
        "        squared_numbers = []\n",
        "        while start <= stop:\n",
        "            squared_numbers.append(start ** 2)\n",
        "            start += 1\n",
        "        return squared_numbers\n",
        "\n",
        "    print(squared_numbers(4, 8))\n",
        "\n",
        "if __name__ == \"__main__\":\n",
        "    main()"
      ],
      "metadata": {
        "id": "DImI4H1Iz3h8"
      },
      "execution_count": null,
      "outputs": []
    },
    {
      "cell_type": "markdown",
      "source": [
        "7.2.1 is greater"
      ],
      "metadata": {
        "id": "dsmqyvB90AKg"
      }
    },
    {
      "cell_type": "code",
      "source": [
        "def main():\n",
        "    def is_greater(my_list, n):\n",
        "        \"\"\"filters out all the numbers that are greater than n\n",
        "        :param my_list: list of numbers\n",
        "        :param n: number from which to filter\n",
        "        :my_list: list of numbers\n",
        "        :n: number\n",
        "        :return: list of numbers greater than n\n",
        "        :rtype: list\"\"\"\n",
        "        greater = []\n",
        "        for i in my_list:\n",
        "            if  i > n:\n",
        "                greater.append(i)\n",
        "        return greater\n",
        "\n",
        "\n",
        "    print(is_greater([1, 30, 25, 60, 27, 28], 28))\n",
        "\n",
        "\n",
        "\n",
        "if __name__ == \"__main__\":\n",
        "    main()"
      ],
      "metadata": {
        "id": "542uHUpRJBXZ"
      },
      "execution_count": null,
      "outputs": []
    },
    {
      "cell_type": "markdown",
      "source": [
        "7.2.2 seperate leter from other chars"
      ],
      "metadata": {
        "id": "tCfmLxEILOWF"
      }
    },
    {
      "cell_type": "code",
      "source": [
        "def main():\n",
        "    def numbers_letters_count(my_str):\n",
        "        \"\"\"separate the numbers from the rest in string.\n",
        "        include non letter\n",
        "        :my_str: the list\n",
        "        :type my_str: list\n",
        "        :return: list with amount of num, amount of other char\n",
        "         :rtype: list\"\"\"\n",
        "        num_in_lst = []\n",
        "        for i in my_str:\n",
        "            if i.isdigit():\n",
        "                num_in_lst.append(i)\n",
        "        other_in_lst = len(my_str) - len(num_in_lst)\n",
        "        result =  [len(num_in_lst), other_in_lst]\n",
        "        return result\n",
        "\n",
        "    print(numbers_letters_count(\"Python 3.6.3\"))\n",
        "\n",
        "if __name__ == \"__main__\":\n",
        "    main()"
      ],
      "metadata": {
        "id": "K_YU-NNzLPI9"
      },
      "execution_count": null,
      "outputs": []
    },
    {
      "cell_type": "markdown",
      "source": [
        "7.2.4 BOOM"
      ],
      "metadata": {
        "id": "fFAp5YOW23BU"
      }
    },
    {
      "cell_type": "code",
      "source": [
        "def main():\n",
        "\n",
        "    def seven_boom(end_number):\n",
        "        \"\"\"swaps the index that are multiplications of 7 and nums that include 7 with BOOM\n",
        "        :param end_number: the num span\n",
        "        :type end_number: int\n",
        "        :return: list of nums with swapped BOOM\n",
        "        :rtype: list\"\"\"\n",
        "        result = []\n",
        "        for num in range(end_number):\n",
        "            if num % 7 == 0 or '7' in str(num):\n",
        "                result.append('BOOM')\n",
        "            else:\n",
        "                result.append(num)\n",
        "        return result\n",
        "\n",
        "    print(seven_boom(17))\n",
        "\n",
        "\n",
        "if __name__ == \"__main__\":\n",
        "    main()"
      ],
      "metadata": {
        "id": "ybPZutj725bW"
      },
      "execution_count": null,
      "outputs": []
    },
    {
      "cell_type": "markdown",
      "source": [
        "\n",
        "# 7.2.5 BOOM\n"
      ],
      "metadata": {
        "id": "VN5IXFd8pJEw"
      }
    },
    {
      "cell_type": "code",
      "source": [
        "def main():\n",
        "\n",
        "    def sequence_del(my_str):\n",
        "        \"\"\" remove duplicate characters\n",
        "        :param my_str: string to be cleaned\n",
        "        type my_str: str\n",
        "        :return: cleaned string\n",
        "        :rtype: str\"\"\"\n",
        "        cleaned = []\n",
        "        for i in my_str:\n",
        "            i = my_str[i]\n",
        "            if i not in cleaned:\n",
        "                cleaned.append(i)\n",
        "        return cleaned\n",
        "\n",
        "    print(sequence_del(\"ppyyyyythhhhhooonnnnn\"))\n",
        "    print(sequence_del(\"SSSSsssshhhh\"))\n",
        "    print(sequence_del(\"Heeyyy   yyouuuu!!!\"))\n",
        "\n",
        "if __name__ == \"__main__\":\n",
        "    main()"
      ],
      "metadata": {
        "colab": {
          "base_uri": "https://localhost:8080/",
          "height": 321
        },
        "id": "mwYzSPl_pw5W",
        "outputId": "9f0806c8-6984-480d-826f-cc52bdcdf5f5"
      },
      "execution_count": null,
      "outputs": [
        {
          "output_type": "error",
          "ename": "TypeError",
          "evalue": "string indices must be integers",
          "traceback": [
            "\u001b[0;31m---------------------------------------------------------------------------\u001b[0m",
            "\u001b[0;31mTypeError\u001b[0m                                 Traceback (most recent call last)",
            "\u001b[0;32m<ipython-input-2-c8585e6b3daf>\u001b[0m in \u001b[0;36m<cell line: 20>\u001b[0;34m()\u001b[0m\n\u001b[1;32m     19\u001b[0m \u001b[0;34m\u001b[0m\u001b[0m\n\u001b[1;32m     20\u001b[0m \u001b[0;32mif\u001b[0m \u001b[0m__name__\u001b[0m \u001b[0;34m==\u001b[0m \u001b[0;34m\"__main__\"\u001b[0m\u001b[0;34m:\u001b[0m\u001b[0;34m\u001b[0m\u001b[0;34m\u001b[0m\u001b[0m\n\u001b[0;32m---> 21\u001b[0;31m     \u001b[0mmain\u001b[0m\u001b[0;34m(\u001b[0m\u001b[0;34m)\u001b[0m\u001b[0;34m\u001b[0m\u001b[0;34m\u001b[0m\u001b[0m\n\u001b[0m",
            "\u001b[0;32m<ipython-input-2-c8585e6b3daf>\u001b[0m in \u001b[0;36mmain\u001b[0;34m()\u001b[0m\n\u001b[1;32m     14\u001b[0m         \u001b[0;32mreturn\u001b[0m \u001b[0mcleaned\u001b[0m\u001b[0;34m\u001b[0m\u001b[0;34m\u001b[0m\u001b[0m\n\u001b[1;32m     15\u001b[0m \u001b[0;34m\u001b[0m\u001b[0m\n\u001b[0;32m---> 16\u001b[0;31m     \u001b[0mprint\u001b[0m\u001b[0;34m(\u001b[0m\u001b[0msequence_del\u001b[0m\u001b[0;34m(\u001b[0m\u001b[0;34m\"ppyyyyythhhhhooonnnnn\"\u001b[0m\u001b[0;34m)\u001b[0m\u001b[0;34m)\u001b[0m\u001b[0;34m\u001b[0m\u001b[0;34m\u001b[0m\u001b[0m\n\u001b[0m\u001b[1;32m     17\u001b[0m     \u001b[0mprint\u001b[0m\u001b[0;34m(\u001b[0m\u001b[0msequence_del\u001b[0m\u001b[0;34m(\u001b[0m\u001b[0;34m\"SSSSsssshhhh\"\u001b[0m\u001b[0;34m)\u001b[0m\u001b[0;34m)\u001b[0m\u001b[0;34m\u001b[0m\u001b[0;34m\u001b[0m\u001b[0m\n\u001b[1;32m     18\u001b[0m     \u001b[0mprint\u001b[0m\u001b[0;34m(\u001b[0m\u001b[0msequence_del\u001b[0m\u001b[0;34m(\u001b[0m\u001b[0;34m\"Heeyyy   yyouuuu!!!\"\u001b[0m\u001b[0;34m)\u001b[0m\u001b[0;34m)\u001b[0m\u001b[0;34m\u001b[0m\u001b[0;34m\u001b[0m\u001b[0m\n",
            "\u001b[0;32m<ipython-input-2-c8585e6b3daf>\u001b[0m in \u001b[0;36msequence_del\u001b[0;34m(my_str)\u001b[0m\n\u001b[1;32m      9\u001b[0m         \u001b[0mcleaned\u001b[0m \u001b[0;34m=\u001b[0m \u001b[0;34m[\u001b[0m\u001b[0;34m]\u001b[0m\u001b[0;34m\u001b[0m\u001b[0;34m\u001b[0m\u001b[0m\n\u001b[1;32m     10\u001b[0m         \u001b[0;32mfor\u001b[0m \u001b[0mi\u001b[0m \u001b[0;32min\u001b[0m \u001b[0mmy_str\u001b[0m\u001b[0;34m:\u001b[0m\u001b[0;34m\u001b[0m\u001b[0;34m\u001b[0m\u001b[0m\n\u001b[0;32m---> 11\u001b[0;31m             \u001b[0mi\u001b[0m \u001b[0;34m=\u001b[0m \u001b[0mmy_str\u001b[0m\u001b[0;34m[\u001b[0m\u001b[0mi\u001b[0m\u001b[0;34m]\u001b[0m\u001b[0;34m\u001b[0m\u001b[0;34m\u001b[0m\u001b[0m\n\u001b[0m\u001b[1;32m     12\u001b[0m             \u001b[0;32mif\u001b[0m \u001b[0mi\u001b[0m \u001b[0;32mnot\u001b[0m \u001b[0;32min\u001b[0m \u001b[0mcleaned\u001b[0m\u001b[0;34m:\u001b[0m\u001b[0;34m\u001b[0m\u001b[0;34m\u001b[0m\u001b[0m\n\u001b[1;32m     13\u001b[0m                 \u001b[0mcleaned\u001b[0m\u001b[0;34m.\u001b[0m\u001b[0mappend\u001b[0m\u001b[0;34m(\u001b[0m\u001b[0mi\u001b[0m\u001b[0;34m)\u001b[0m\u001b[0;34m\u001b[0m\u001b[0;34m\u001b[0m\u001b[0m\n",
            "\u001b[0;31mTypeError\u001b[0m: string indices must be integers"
          ]
        }
      ]
    },
    {
      "cell_type": "markdown",
      "source": [
        "7.2.6 grocerie list"
      ],
      "metadata": {
        "id": "tpj1T4fIIGOR"
      }
    },
    {
      "cell_type": "code",
      "source": [
        "def main():\n",
        "\n",
        "    def groceries_check(list_of_groceries0):\n",
        "        \"\"\"Check and do stuff to list 8 in total\n",
        "        1-print list, 2-print amount, 3-check if in list, 4-count time in list, 5-delete items from list, 6-add items to list, 7- remove invalid, 8- remove duplicates\n",
        "        :param list_of_groceries0: given list\n",
        "        :type list_of_groceries0: list\n",
        "        :return: None\n",
        "        :rtype: None\n",
        "        \"\"\"\n",
        "        list_of_groceries = [word.lower() for word in list_of_groceries0]\n",
        "        while True:\n",
        "            get_choice = (input(\"What to do:\\n1 - Print list of groceries\\n2 - Print number of groceries\\n3 - Check if item is in the grocery list\\n4 - Count how many times an item appears in the list\\n5 - Delete items from the list\\n6 - Add items to the list\\n7 - Delete items that don't belong (shorter than 3 characters)\\n8 - Remove duplicates\\n9 - Exit\\nEnter your choice: \"))\n",
        "\n",
        "            if get_choice.isdigit():\n",
        "                get_choice = int(get_choice)\n",
        "                if get_choice == 9:\n",
        "                    break\n",
        "                elif get_choice in range(1, 9):\n",
        "                    pass\n",
        "                else:\n",
        "                    print(\"Invalid choice\",\"\\n\")\n",
        "            else:\n",
        "                print(\"Invalid input\",\"\\n\")\n",
        "\n",
        "            # 1 - Print list\n",
        "            if get_choice == 1:\n",
        "                print(list_of_groceries,\"\\n\")\n",
        "\n",
        "            # 2 - Print length of list\n",
        "            elif get_choice == 2:\n",
        "                print(len(list_of_groceries,\"\\n\"))\n",
        "\n",
        "            # 3 - search for item in list\n",
        "            elif get_choice == 3:\n",
        "                get_item3 = input(\"Enter what to search for: \")\n",
        "                if get_item3 in list_of_groceries:\n",
        "                    print(f\"{get_item3} is in the grocery list\",\"\\n\")\n",
        "                else:\n",
        "                    print(f\"{get_item3} is not in the grocery list\",\"\\n\")\n",
        "\n",
        "            # 4 - Count how many times an item appears in the list\n",
        "            elif get_choice == 4:\n",
        "                get_item4 = input(\"Enter what to check \")\n",
        "\n",
        "                if get_item4 in list_of_groceries:\n",
        "                    print(list_of_groceries.count(get_item4),\"\\n\")\n",
        "                else:\n",
        "                    print(f\"{get_item4} is not in the grocery list\",\"\\n\")\n",
        "\n",
        "            # 5 - Delete items from the list\n",
        "            elif get_choice == 5:\n",
        "                get_item5 = input(\"Enter what to delete: \")\n",
        "                if get_item5 in list_of_groceries:\n",
        "                    while get_item5 in list_of_groceries:\n",
        "                        list_of_groceries.remove(get_item5)\n",
        "                    print(list_of_groceries,\"\\n\")\n",
        "                else:\n",
        "                    print(f\"{get_item5} is not in the grocery list\",\"\\n\")\n",
        "\n",
        "            # 6 - Add items to the list\n",
        "            elif get_choice == 6:\n",
        "                get_item6 = input(\"Enter what to add: \")\n",
        "                list_of_groceries.append(get_item6)\n",
        "\n",
        "            # 7 - Delete items that don't belong (shorter than 3 characters)\n",
        "            elif get_choice == 7:\n",
        "                valid_item7 = []\n",
        "                for item in list_of_groceries:\n",
        "                    if len(item) >= 3:\n",
        "                        valid_item7.append(item)\n",
        "                print(valid_item7)\n",
        "\n",
        "            # 8 - Remove duplicates\n",
        "            elif get_choice == 8:\n",
        "                unique_items = []\n",
        "                seen = set()\n",
        "\n",
        "                for item in list_of_groceries:\n",
        "                    if item not in seen:\n",
        "                        unique_items.append(item)\n",
        "                        seen.add(item)\n",
        "                print(unique_items,\"\\n\")\n",
        "\n",
        "\n",
        "        print(\"Goodbye!\")\n",
        "        return get_choice\n",
        "\n",
        "    grocery_list = [ \"Milk\", \"Milk\", \"Milk\",\"Apples\", \"oh\", \"Bread\", \"Bananas\", \"Milk\", \"Bread\", \"Eggs\", \"Milk\", \"Chicken\", \"Bread\", \"Rice\", \"Pasta\", \"Bread\", \"Cheese\", \"Tomatoes\", \"Potatoes\", \"Carrots\", \"Onions\", \"Spinach\", \"Yogurt\", \"Cereal\", \"Orange Juice\", \"Coffee\", \"Tea\", \"Olive Oil\"]\n",
        "    groceries_check(grocery_list)\n",
        "\n",
        "\n",
        "if __name__ == \"__main__\":\n",
        "    main()"
      ],
      "metadata": {
        "id": "oN7919nUIJb9"
      },
      "execution_count": null,
      "outputs": []
    },
    {
      "cell_type": "markdown",
      "source": [
        "7.2.7 arrow"
      ],
      "metadata": {
        "id": "axUyki5uMwID"
      }
    },
    {
      "cell_type": "code",
      "source": [
        "\n",
        "def main():\n",
        "\n",
        "    def arrow(my_char, max_length):\n",
        "        \"\"\"print char in shape of an arrow\n",
        "        :my_char: the character\n",
        "        :max_length: the length of the arrow\n",
        "        :type my_char: str\n",
        "        :type max_length: int\n",
        "        :return: None\"\"\"\n",
        "        sym = my_char + \" \"\n",
        "        for i in range(max_length+1):\n",
        "            print(sym * i,\"\\n\")\n",
        "        for i in range(max_length):\n",
        "            print(sym * (max_length-1 - i),\"\\n\")\n",
        "\n",
        "\n",
        "\n",
        "    print(arrow('*', 5))\n",
        "\n",
        "if __name__ == \"__main__\":\n",
        "    main()"
      ],
      "metadata": {
        "id": "h6YEbxywMzRO"
      },
      "execution_count": null,
      "outputs": []
    },
    {
      "cell_type": "markdown",
      "source": [
        "8.2.1 tulpe format"
      ],
      "metadata": {
        "id": "ra8kA1syKjfe"
      }
    },
    {
      "cell_type": "code",
      "source": [
        "data = (\"self.py\", \"learner\", 1.5)\n",
        "message = f\"Hello {data[0]} {data[1]}, you have only {data[2]:.1f} units left before you master the course!\"\n",
        "print(message)\n"
      ],
      "metadata": {
        "id": "kWHKvHVoKnZB"
      },
      "execution_count": null,
      "outputs": []
    },
    {
      "cell_type": "markdown",
      "source": [
        "8.2.2 sorted tuple in list"
      ],
      "metadata": {
        "id": "EqCQa7TPQYIH"
      }
    },
    {
      "cell_type": "code",
      "source": [
        "c"
      ],
      "metadata": {
        "id": "_JXVj-MxQd0f"
      },
      "execution_count": null,
      "outputs": []
    },
    {
      "cell_type": "markdown",
      "source": [
        "8.2.3 tupple variations"
      ],
      "metadata": {
        "id": "pRCke6zwTVzi"
      }
    },
    {
      "cell_type": "code",
      "source": [
        "#########     ATEMPT 1 : NOT GOOD PRINTS TUPLE IN LIST   ##############\n",
        "\n",
        "    def mult_tuple(tuple1, tuple2):\n",
        "        pairs = []\n",
        "        for i in range(len(tuple1)):\n",
        "            i == tuple1[i]\n",
        "            for j in range(len(tuple2)):\n",
        "                pairs.append((tuple1[i], tuple2[j]))\n",
        "        flipped_tuples = [(y, x) for x, y in pairs]\n",
        "        print(pairs, \"\\n\", flipped_tuples)\n",
        "        return"
      ],
      "metadata": {
        "id": "S73jWXWWTaG2"
      },
      "execution_count": null,
      "outputs": []
    },
    {
      "cell_type": "code",
      "source": [
        "def main():\n",
        "\n",
        "\n",
        "    # * prints nested items in tuple\n",
        "    #  *((x, y) for x in tuple1 for y in tuple2) iterates an combines . twice fo both varations\n",
        "    def mult_tuple(tuple1, tuple2):\n",
        "        \"\"\" retuns all pair variations\n",
        "        :param tuple1: tuple of numbers\n",
        "        :param tuple2: tuple of numbers\n",
        "        :type tuple1: tuple\n",
        "        :type tuple2: tuple\n",
        "        :return: all pair variations\n",
        "        :rtype: tuple\"\"\"\n",
        "        result = (\n",
        "        *((x, y) for x in tuple1 for y in tuple2),\n",
        "        *((y, x) for y in tuple2 for x in tuple1)\n",
        "        )\n",
        "        return result\n",
        "\n",
        "    first_tuple1 = (1, 2)\n",
        "    second_tuple1 = (4, 5)\n",
        "    print(mult_tuple(first_tuple1, second_tuple1), \"\\n\")\n",
        "\n",
        "    first_tuple2 = (1, 2, 3)\n",
        "    second_tuple2 = (4, 5, 6)\n",
        "    print(mult_tuple(first_tuple2, second_tuple2))\n",
        "\n",
        "if __name__ == \"__main__\":\n",
        "    main()\n",
        "\n"
      ],
      "metadata": {
        "id": "HPpGtuhLY2u-"
      },
      "execution_count": null,
      "outputs": []
    },
    {
      "cell_type": "markdown",
      "source": [
        "8.2.4 ANAGRAM"
      ],
      "metadata": {
        "id": "hYk-UW3sev0w"
      }
    },
    {
      "cell_type": "code",
      "source": [
        "##### VARIATION 1 BY ASSAF ######\n",
        "list_of_strings = ['abc', 'bca', 'dfe', 'bac', 'fde']\n",
        "\n",
        "# [['a', 'b', 'c']]\n",
        "list_of_sorted_words = [sorted(list_of_strings[0])]\n",
        "\n",
        "# [['a', 'b', 'c'], ['d', 'e', 'f']]\n",
        "for word in list_of_strings:\n",
        "  if sorted(word) not in list_of_sorted_words:\n",
        "    list_of_sorted_words.append(sorted(word))\n",
        "\n",
        "# [[['a', 'b', 'c']], [['d', 'e', 'f']]] make room in each list for the corresponding words\n",
        "list_of_sorted_words = [[elem] for elem in list_of_sorted_words]\n",
        "\n",
        "# [[['a', 'b', 'c'], 'abc', 'bca', 'bac'], [['d', 'e', 'f'], 'dfe', 'fde']] chain word with sorted\n",
        "for sorted_word in list_of_sorted_words:\n",
        "  for word in list_of_strings:\n",
        "    if sorted_word[0] == sorted(word):\n",
        "      sorted_word.append(word)\n",
        "\n",
        "# remove first element from each element\n",
        "list_of_sorted_words = [elem[1:] for elem in list_of_sorted_words]\n",
        "print(list_of_sorted_words)\n"
      ],
      "metadata": {
        "id": "h5UznM8beyLD"
      },
      "execution_count": null,
      "outputs": []
    },
    {
      "cell_type": "code",
      "source": [
        "##### VARIATION 2 BY CHAT GPT ########\n",
        "\n",
        "\n",
        "def sort_anagrams(list_of_strings):\n",
        "    res = []\n",
        "    for word in list_of_strings:\n",
        "        found_anagram = False\n",
        "        for list_words in res:\n",
        "            if sorted(list_words[0]) == sorted(word):\n",
        "                list_words.append(word)\n",
        "                found_anagram = True\n",
        "        if not found_anagram:\n",
        "            res.append([word])\n",
        "    return res\n",
        "\n",
        "list_of_words = ['deltas', 'retainers', 'desalt', 'pants', 'slated', 'generating', 'ternaries', 'smelters', 'termless', 'salted', 'staled', 'greatening', 'lasted', 'resmelts']\n",
        "\n",
        "sort_ang = sort_anagrams(list_of_words)\n",
        "print(sort_ang)\n"
      ],
      "metadata": {
        "id": "aHpJGgg5e6on"
      },
      "execution_count": null,
      "outputs": []
    },
    {
      "cell_type": "code",
      "source": [
        "### netanel pess variation\n",
        "\n",
        "\n",
        "def sort_anagrams(list_of_strings):\n",
        "    res = []\n",
        "    for word in list_of_strings:\n",
        "        for list_words in res:\n",
        "            if sorted(list_words[0]) == sorted(word):\n",
        "                list_words.append(word)\n",
        "                break\n",
        "        else:\n",
        "            res.append([word])\n",
        "    return res\n",
        "\n",
        "\n",
        "list_of_words = ['deltas', 'retainers', 'desalt', 'pants', 'slated', 'generating', 'ternaries', 'smelters', 'termless', 'salted', 'staled', 'greatening', 'lasted', 'resmelts']\n",
        "\n",
        "sort_ang = sort_anagrams(list_of_words)\n",
        "print(sort_ang)"
      ],
      "metadata": {
        "id": "8nOUH4r0XZzJ"
      },
      "execution_count": null,
      "outputs": []
    },
    {
      "cell_type": "markdown",
      "source": [
        "8.3.2 dict name_info"
      ],
      "metadata": {
        "id": "u54XlHctyBGL"
      }
    },
    {
      "cell_type": "code",
      "source": [
        "golan = {\n",
        "    \"last_name\": \"martin\",\n",
        "    \"birth_date\": \"09,09,1999\",\n",
        "    \"hobbies\": [\"music\", \"dancing\", \"painting\"]\n",
        "}\n",
        "\n",
        "choice = int(input(\"\"\"choose action \\n\n",
        "                  1- reveal last name \\n\n",
        "                  2- reveal birth month \\n\n",
        "                  3- reveal hobbies \\n\n",
        "                  4- reveal last hobby \\n\n",
        "                  5- add cooking to hobbies \\n\n",
        "                  6- revert date to tuple with three numbers \\n\n",
        "                  7- calc age and add age directory \\n\"\"\"))\n",
        "\n",
        "if choice == 1:\n",
        "    print(golan[\"last_name\"])\n",
        "elif choice == 2:\n",
        "    birth_date_parts = golan[\"birth_date\"].split(\",\")\n",
        "    print(birth_date_parts[1])\n",
        "elif choice == 3:\n",
        "    print(golan[\"hobbies\"])\n",
        "elif choice == 4:\n",
        "    print(golan[\"hobbies\"][-1])\n",
        "elif choice == 5:\n",
        "    golan[\"hobbies\"].append(\"cooking\")\n",
        "    print(golan[\"hobbies\"])\n",
        "elif choice == 6:\n",
        "    golan[\"birth_date\"] = tuple(map(int, golan[\"birth_date\"].split(\",\")))\n",
        "    print(golan[\"birth_date\"])\n",
        "elif choice == 7:\n",
        "   golan[\"birth_date\"] = tuple(map(int, golan[\"birth_date\"].split(\",\")))\n",
        "   age = 2024 - golan[\"birth_date\"][-1]\n",
        "   golan[\"age\"] = age\n",
        "   print(age)\n",
        "else:\n",
        "    print(\"Invalid choice\")\n"
      ],
      "metadata": {
        "id": "v3fls0Pf7PD_",
        "colab": {
          "base_uri": "https://localhost:8080/",
          "height": 110
        },
        "outputId": "f22a63d0-78c7-4929-b54c-754c575f0df9"
      },
      "execution_count": null,
      "outputs": [
        {
          "output_type": "error",
          "ename": "SyntaxError",
          "evalue": "invalid syntax (<ipython-input-1-8a30b216454b>, line 5)",
          "traceback": [
            "\u001b[0;36m  File \u001b[0;32m\"<ipython-input-1-8a30b216454b>\"\u001b[0;36m, line \u001b[0;32m5\u001b[0m\n\u001b[0;31m    if choice == 1: print(golan[\"last_name\"]) elif choice == 2: print(golan[\"birth_date\"]) elif choice == 3: print(golan[\"hobbies\"]) else: print(\"invalid choice\")\u001b[0m\n\u001b[0m                                              ^\u001b[0m\n\u001b[0;31mSyntaxError\u001b[0m\u001b[0;31m:\u001b[0m invalid syntax\n"
          ]
        }
      ]
    },
    {
      "cell_type": "code",
      "source": [
        "8.3.3 def count_chars(my_str):\n"
      ],
      "metadata": {
        "id": "oaYAxL6FG5LN"
      },
      "execution_count": null,
      "outputs": []
    },
    {
      "cell_type": "markdown",
      "source": [
        "assaf exersices"
      ],
      "metadata": {
        "id": "VnJS8efE2ZwQ"
      }
    },
    {
      "cell_type": "code",
      "source": [
        "###  1 remove duplicates  ####\n",
        "def remove_duplicates(original_list):\n",
        "    \"\"\"Remove duplicate elements from a list\"\"\"\n",
        "    no_dup = []\n",
        "    # for element in range(len(original_list)):\n",
        "    for element in original_list:\n",
        "        if element  not in no_dup:\n",
        "            no_dup.append(element)\n",
        "    return no_dup\n",
        "\n",
        "print(remove_duplicates([1, 2, 2, 3, 1, 4, 5, 5, 8, ]))\n",
        "\n",
        "\n",
        "#### 2 count occurrences ######\n",
        "def count_occurrences(my_list):\n",
        "    occurrences = []\n",
        "    for item in my_list:\n",
        "        if item not in occurrences:\n",
        "            occurrences.append(item)\n",
        "    return(len(occurrences))\n",
        "\n",
        "print(count_occurrences([1, 2, 2, 3, 6,9 ,2]))\n",
        "\n",
        "\n",
        "#### 3 sum & average #####\n",
        "def num_count(num_list):\n",
        "    sum = 0\n",
        "    for num in num_list:\n",
        "        sum = sum + num\n",
        "    print(sum)\n",
        "    average = sum/ len(num_list)\n",
        "    print(average)\n",
        "\n",
        "nums = [7,8,9,4,5,6,1,2,3,7,7,7,8,7,7,7,7,8,8,9,6,5,2,2,2,2,1,1,4,4]\n",
        "num_count(nums)\n",
        "\n",
        "\n",
        "\n"
      ],
      "metadata": {
        "id": "o5dnYg6RG6-c"
      },
      "execution_count": null,
      "outputs": []
    },
    {
      "cell_type": "markdown",
      "source": [
        "8.3.3 count_chars"
      ],
      "metadata": {
        "id": "MDuj9_FosSU4"
      }
    },
    {
      "cell_type": "code",
      "source": [
        "def count_chars(my_str):\n",
        "    counted = {}\n",
        "    for char in my_str:\n",
        "        if char != \" \":\n",
        "            if char in counted:\n",
        "                counted[char] += 1\n",
        "            else:\n",
        "                counted[char] = 1\n",
        "    print(counted)\n",
        "\n",
        "magic_str = \"abra cadabra\"\n",
        "count_chars(magic_str)\n",
        "\n"
      ],
      "metadata": {
        "id": "RyKr5F8WsXFL"
      },
      "execution_count": null,
      "outputs": []
    },
    {
      "cell_type": "markdown",
      "source": [
        "8.3.4 inverted dict"
      ],
      "metadata": {
        "id": "xYJAUobNtC4V"
      }
    },
    {
      "cell_type": "code",
      "source": [
        "def inverse_dict(d):\n",
        "    inverted_d = {}\n",
        "    for key, value in d.items():\n",
        "        if value in inverted_d:\n",
        "            inverted_d[value].append(key)\n",
        "        else:\n",
        "            inverted_d[value] = [key]\n",
        "    return inverted_d\n",
        "\n",
        "# Test the function\n",
        "course_dict = {'I': 3, 'love': 3, 'self.py!': 2}\n",
        "print(inverse_dict(course_dict))"
      ],
      "metadata": {
        "id": "aUFGCfK1tHRB"
      },
      "execution_count": null,
      "outputs": []
    },
    {
      "cell_type": "code",
      "source": [
        "## BONUS\n",
        "\n",
        "# flipped dictionary\n",
        "\n",
        "city_populations = {\n",
        "    \"New York\": 1,\n",
        "    \"Los Angeles\": 2,\n",
        "    \"Chicago\": 3,\n",
        "    \"Houston\": 4,\n",
        "    \"Phoenix\": 1\n",
        "}\n",
        "\n",
        "flipped = {}\n",
        "for key, value in city_populations.items():\n",
        "    if value in flipped:\n",
        "        flipped[value].append(key)\n",
        "    else:\n",
        "        flipped[value] = [key]\n",
        "\n",
        "print(flipped)\n"
      ],
      "metadata": {
        "id": "KyTw2yGOImdh"
      },
      "execution_count": null,
      "outputs": []
    },
    {
      "cell_type": "code",
      "source": [
        "# flipped dictionary ver 2\n",
        "\n",
        "city_populations = {\n",
        "    \"New York\": 1,\n",
        "    \"Los Angeles\": 2,\n",
        "    \"Chicago\": 3,\n",
        "    \"Houston\": 4,\n",
        "    \"Phoenix\": 1\n",
        "}\n",
        "\n",
        "flipped = {}\n",
        "for key, value in city_populations.items():\n",
        "    if value in flipped:\n",
        "        flipped[value] = [flipped[value]]\n",
        "        flipped[value].append(key)\n",
        "    else:\n",
        "        flipped[value] = key\n",
        "\n",
        "print(flipped)\n"
      ],
      "metadata": {
        "id": "Ap-rmhaCM_PU"
      },
      "execution_count": null,
      "outputs": []
    },
    {
      "cell_type": "code",
      "source": [
        "# calculate average\n",
        "\n",
        "grades_dict = {\n",
        "    \"a\":81,\n",
        "    \"b\":56,\n",
        "    \"c\": 99,\n",
        "}\n",
        "\n",
        "grades = []\n",
        "for key, value in grades_dict.items():\n",
        "    grades.append(value)\n",
        "summed = sum(grades)\n",
        "result = summed / len(grades)\n",
        "print(result)\n",
        "\n"
      ],
      "metadata": {
        "id": "nMXXZvVrQ5k0"
      },
      "execution_count": null,
      "outputs": []
    }
  ]
}
